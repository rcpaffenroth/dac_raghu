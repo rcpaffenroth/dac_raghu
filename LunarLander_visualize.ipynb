{
  "cells": [
    {
      "cell_type": "markdown",
      "metadata": {
        "id": "fWT0bopBIPfa"
      },
      "source": [
        "<a target=\"_blank\" href=\"https://colab.research.google.com/github/rcpaffenroth/dac_raghu/blob/main/LunarLander.ipynb\">\n",
        "  <img src=\"https://colab.research.google.com/assets/colab-badge.svg\" alt=\"Open In Colab\"/>\n",
        "</a>"
      ]
    },
    {
      "cell_type": "markdown",
      "metadata": {
        "id": "-2iIpCtRVnAT"
      },
      "source": [
        "# Setup and libraries"
      ]
    },
    {
      "cell_type": "markdown",
      "metadata": {},
      "source": [
        "## Colab specific stuff\n",
        "\n",
        "This is some code to make sure that the notebook works in Colab. It's not used when you are running things locally."
      ]
    },
    {
      "cell_type": "code",
      "execution_count": 1,
      "metadata": {
        "id": "i7rbbIzgUsoH"
      },
      "outputs": [],
      "source": [
        "import sys\n",
        "IN_COLAB = 'google.colab' in sys.modules"
      ]
    },
    {
      "cell_type": "code",
      "execution_count": 2,
      "metadata": {
        "colab": {
          "base_uri": "https://localhost:8080/"
        },
        "id": "ruJt504TJgdh",
        "outputId": "ab6a4eb8-dffd-4e92-8b1d-31fd78cacf1f"
      },
      "outputs": [],
      "source": [
        "if IN_COLAB:\n",
        "  ! apt-get install swig\n",
        "  ! pip install stable-baselines3[extra] gymnasium[box2d] huggingface_sb3\n",
        "else:\n",
        "  # Otherwise, install locally and you need the following\n",
        "  # NOTE: Need \"gym\" and \"gymnasium\" installed, since we use \"gymnasium\" for the LunarLander environment\n",
        "  #       and \"gym\" is for huggingface_sb3.\n",
        "  # sudo apt install swig ffmpeg\n",
        "  # pip install stable-baselines3[extra] gymnasium[box2d] huggingface_sb3 imageio[ffmpeg] gym ipywidegets ipykernel pandas pyarrow\n",
        "  pass"
      ]
    },
    {
      "cell_type": "markdown",
      "metadata": {},
      "source": [
        "## Load the needed libraries\n",
        "\n",
        "These are the libraries I will be using for this notebook"
      ]
    },
    {
      "cell_type": "code",
      "execution_count": 3,
      "metadata": {
        "colab": {
          "base_uri": "https://localhost:8080/"
        },
        "id": "ObPgW5p7IJCW",
        "outputId": "f98150cb-fdbe-4107-d71a-cf0647206059"
      },
      "outputs": [],
      "source": [
        "import gymnasium as gym\n",
        "import matplotlib.pylab as plt\n",
        "import numpy as np\n",
        "\n",
        "import imageio\n",
        "from stable_baselines3 import PPO\n",
        "from huggingface_sb3 import load_from_hub\n",
        "\n",
        "import pandas as pd\n",
        "\n",
        "from IPython.display import display\n",
        "from IPython.display import HTML\n",
        "from ipywidgets import interact, widgets\n",
        "from base64 import b64encode\n",
        "%matplotlib inline"
      ]
    },
    {
      "cell_type": "markdown",
      "metadata": {},
      "source": [
        "# The Lander environment.  \n",
        "\n",
        "It is trying to land softly between the two flags"
      ]
    },
    {
      "cell_type": "code",
      "execution_count": 4,
      "metadata": {
        "id": "f3qMKvCMIJCY"
      },
      "outputs": [],
      "source": [
        "# Make the environment\n",
        "env = gym.make(\"LunarLander-v2\", render_mode='rgb_array')\n",
        "observation = env.reset()\n"
      ]
    },
    {
      "cell_type": "markdown",
      "metadata": {},
      "source": [
        "There is the top level link to the library\n",
        "\n",
        "https://gymnasium.farama.org/\n",
        "\n",
        "Here is the Lunar Lander specific link\n",
        "\n",
        "https://gymnasium.farama.org/environments/box2d/lunar_lander/\n",
        "\n"
      ]
    },
    {
      "cell_type": "markdown",
      "metadata": {},
      "source": [
        "### Action Space\n",
        "There are four discrete actions available:\n",
        "\n",
        "0: do nothing\n",
        "\n",
        "1: fire left orientation engine\n",
        "\n",
        "2: fire main engine\n",
        "\n",
        "3: fire right orientation engine\n"
      ]
    },
    {
      "cell_type": "markdown",
      "metadata": {},
      "source": [
        "\n",
        "### Observation Space\n",
        "\n",
        "The state is an 8-dimensional vector: the coordinates of the lander in x & y, its linear velocities in x & y, its angle, its angular velocity, and two booleans that represent whether each leg is in contact with the ground or not."
      ]
    },
    {
      "cell_type": "code",
      "execution_count": 5,
      "metadata": {},
      "outputs": [],
      "source": [
        "obs_names = ['x', 'y', 'vx', 'vy', 'theta', 'vtheta', 'leg1', 'leg2']"
      ]
    },
    {
      "cell_type": "markdown",
      "metadata": {},
      "source": [
        "### Rewards\n",
        "\n",
        "After every step a reward is granted. The total reward of an episode is the sum of the rewards for all the steps within that episode.\n",
        "\n",
        "For each step, the reward:\n",
        "\n",
        "is increased/decreased the closer/further the lander is to the landing pad.\n",
        "\n",
        "is increased/decreased the slower/faster the lander is moving.\n",
        "\n",
        "is decreased the more the lander is tilted (angle not horizontal).\n",
        "\n",
        "is increased by 10 points for each leg that is in contact with the ground.\n",
        "\n",
        "is decreased by 0.03 points each frame a side engine is firing.\n",
        "\n",
        "is decreased by 0.3 points each frame the main engine is firing.\n",
        "\n",
        "The episode receive an additional reward of -100 or +100 points for crashing or landing safely respectively.\n",
        "\n",
        "An episode is considered a solution if it scores at least 200 points."
      ]
    },
    {
      "cell_type": "markdown",
      "metadata": {},
      "source": [
        "### Starting State\n",
        "\n",
        "The lander starts at the top center of the viewport with a random initial force applied to its center of mass."
      ]
    },
    {
      "cell_type": "markdown",
      "metadata": {},
      "source": [
        "### Episode Termination\n",
        "\n",
        "The episode finishes if:\n",
        "\n",
        "the lander crashes (the lander body gets in contact with the moon);\n",
        "\n",
        "the lander gets outside of the viewport (x coordinate is greater than 1);\n",
        "\n",
        "the lander is not awake. From the Box2D docs, a body which is not awake is a body which doesn’t move and doesn’t collide with any other body:\n",
        "\n",
        "When Box2D determines that a body (or group of bodies) has come to rest, the body enters a sleep state which has very little CPU overhead. If a body is awake and collides with a sleeping body, then the sleeping body wakes up. Bodies will also wake up if a joint or contact attached to them is destroyed."
      ]
    },
    {
      "cell_type": "markdown",
      "metadata": {
        "id": "U9xZJaSBVYGZ"
      },
      "source": [
        "# Training and downloading models"
      ]
    },
    {
      "cell_type": "code",
      "execution_count": 6,
      "metadata": {},
      "outputs": [],
      "source": [
        "models = {}"
      ]
    },
    {
      "cell_type": "code",
      "execution_count": 7,
      "metadata": {
        "id": "gYpJvvJ1YwBs"
      },
      "outputs": [],
      "source": [
        "class RandomModel(object):\n",
        "  def __init__(self, env):\n",
        "    self.env = env\n",
        "\n",
        "  def predict(self, obs):\n",
        "    return env.action_space.sample(), None # The second return value is the state value, which the random model does not use\n",
        "\n",
        "random_model =  RandomModel(env)\n",
        "models['random'] = {}\n",
        "models['random']['model'] = random_model\n",
        "models['random']['runs'] = []"
      ]
    },
    {
      "cell_type": "code",
      "execution_count": 8,
      "metadata": {
        "colab": {
          "base_uri": "https://localhost:8080/"
        },
        "id": "Y_LcXjSjIJCa",
        "outputId": "d86fc160-2ed6-4efa-befd-a2b2edb82da6"
      },
      "outputs": [],
      "source": [
        "# This is an trained model that has a good architecture and loss function, but is not trained very much.  This takes about 30 sec on \n",
        "# a RTX 4090\n",
        "trained_model = PPO(\"MlpPolicy\", env)\n",
        "trained_model.learn(total_timesteps=20000)\n",
        "\n",
        "models['trained'] = {}\n",
        "models['trained']['model'] = trained_model\n",
        "models['trained']['runs'] = []"
      ]
    },
    {
      "cell_type": "code",
      "execution_count": 9,
      "metadata": {
        "colab": {
          "base_uri": "https://localhost:8080/"
        },
        "id": "mK-mnlzyWXmb",
        "outputId": "e6dde32e-374c-47df-e299-60ed1093c16a"
      },
      "outputs": [
        {
          "name": "stderr",
          "output_type": "stream",
          "text": [
            "/home/rcpaffenroth/projects/dac_raghu/venv/lib/python3.8/site-packages/stable_baselines3/common/save_util.py:166: UserWarning: Could not deserialize object learning_rate. Consider using `custom_objects` argument to replace this object.\n",
            "Exception: an integer is required (got type bytes)\n",
            "  warnings.warn(\n",
            "/home/rcpaffenroth/projects/dac_raghu/venv/lib/python3.8/site-packages/stable_baselines3/common/save_util.py:166: UserWarning: Could not deserialize object lr_schedule. Consider using `custom_objects` argument to replace this object.\n",
            "Exception: an integer is required (got type bytes)\n",
            "  warnings.warn(\n",
            "/home/rcpaffenroth/projects/dac_raghu/venv/lib/python3.8/site-packages/stable_baselines3/common/vec_env/patch_gym.py:95: UserWarning: You loaded a model that was trained using OpenAI Gym. We strongly recommend transitioning to Gymnasium by saving that model again.\n",
            "  warnings.warn(\n"
          ]
        }
      ],
      "source": [
        "# This is a model from huggingface.co at https://huggingface.co/sb3/a2c-LunarLander-v2\n",
        "# Mean reward: 181.08 +/- 95.35\n",
        "checkpoint = load_from_hub(\n",
        "    repo_id=\"sb3/a2c-LunarLander-v2\",\n",
        "    filename=\"a2c-LunarLander-v2.zip\",\n",
        ")\n",
        "\n",
        "good_model = PPO.load(checkpoint)\n",
        "\n",
        "models['good'] = {}\n",
        "models['good']['model'] = good_model\n",
        "models['good']['runs'] = []"
      ]
    },
    {
      "cell_type": "code",
      "execution_count": 10,
      "metadata": {},
      "outputs": [
        {
          "name": "stderr",
          "output_type": "stream",
          "text": [
            "/home/rcpaffenroth/projects/dac_raghu/venv/lib/python3.8/site-packages/stable_baselines3/common/save_util.py:166: UserWarning: Could not deserialize object clip_range. Consider using `custom_objects` argument to replace this object.\n",
            "Exception: an integer is required (got type bytes)\n",
            "  warnings.warn(\n"
          ]
        }
      ],
      "source": [
        "# This is a model from huggingface.co at https://huggingface.co/araffin/ppo-LunarLander-v2\n",
        "# Mean reward:  283.49 +/- 13.74\n",
        "checkpoint = load_from_hub(\n",
        "    repo_id=\"araffin/ppo-LunarLander-v2\",\n",
        "    filename=\"ppo-LunarLander-v2.zip\",\n",
        ")\n",
        "\n",
        "better_model = PPO.load(checkpoint)\n",
        "models['better'] = {}\n",
        "models['better']['model'] = better_model\n",
        "models['better']['runs'] = []"
      ]
    },
    {
      "cell_type": "markdown",
      "metadata": {
        "id": "Yq_dUEp9YkcA"
      },
      "source": [
        "# Evaluate models"
      ]
    },
    {
      "cell_type": "code",
      "execution_count": 11,
      "metadata": {
        "id": "cOBZwfCqIJCc"
      },
      "outputs": [],
      "source": [
        "def evaluate_model(model_name, models=models, env=env):\n",
        "   # Make a movie of a trained agent\n",
        "   obs = env.reset()[0]\n",
        "\n",
        "   # Get the model\n",
        "   model = models[model_name]['model']\n",
        "   images = []\n",
        "   all_obs = []\n",
        "   all_actions = []\n",
        "   all_rewards = []\n",
        "   done = False\n",
        "   while not done:\n",
        "      # This rendering mode puts an image into a numpy array\n",
        "      images += [env.render()]\n",
        "      action, _state = model.predict(obs)\n",
        "      all_obs.append(obs)\n",
        "      all_actions.append(int(action))\n",
        "      obs, reward, done, trunc, info = env.step(action)\n",
        "      all_rewards.append(reward)\n",
        "   env.close()\n",
        "\n",
        "   df = pd.DataFrame(all_obs, columns=obs_names)\n",
        "   df['action'] = all_actions\n",
        "   df['reward'] = all_rewards\n",
        "   models[model_name]['runs'].append({'data':df,'images':images})\n",
        "\n"
      ]
    },
    {
      "cell_type": "code",
      "execution_count": 21,
      "metadata": {},
      "outputs": [],
      "source": [
        "# For 3 runs each this takes just under 3 minutes on a RTX 4090\n",
        "for i in range(16):\n",
        "    evaluate_model('random')\n",
        "    evaluate_model('trained')\n",
        "    evaluate_model('good')\n",
        "    evaluate_model('better')\n",
        "    "
      ]
    },
    {
      "cell_type": "code",
      "execution_count": 13,
      "metadata": {
        "colab": {
          "base_uri": "https://localhost:8080/",
          "height": 322
        },
        "id": "rx-9iDZhIJCg",
        "outputId": "dc4b109d-b664-4c03-878d-73df4c5c19f8"
      },
      "outputs": [
        {
          "data": {
            "application/vnd.jupyter.widget-view+json": {
              "model_id": "a1fb3ef904a044b89b0b7459f5521140",
              "version_major": 2,
              "version_minor": 0
            },
            "text/plain": [
              "interactive(children=(Dropdown(description='model_name', options=('random', 'trained', 'good', 'better'), valu…"
            ]
          },
          "metadata": {},
          "output_type": "display_data"
        }
      ],
      "source": [
        "@interact(model_name=models.keys(), run_idx=widgets.IntSlider(min=0, max=9, step=1, value=0))\n",
        "def show_video(model_name, run_idx):\n",
        "      images = models[model_name]['runs'][run_idx]['images']      \n",
        "      # imageio is a nice library for taking a sequence of images and makeing a movie\n",
        "      name = 'tmp.mp4'\n",
        "      imageio.mimsave(name, images, fps=15)\n",
        "      mp4 = open(name,'rb').read()\n",
        "      data_url = \"data:video/mp4;base64,\" + b64encode(mp4).decode()\n",
        "      # This puts the video in the notebook\n",
        "      display(HTML(\"\"\"\n",
        "      <video width=400 controls>\n",
        "            <source src=\"%s\" type=\"video/mp4\">\n",
        "      </video>\n",
        "      \"\"\" % data_url))\n",
        "      # plot various data for the run \n",
        "      _, ax = plt.subplots(1, 3)\n",
        "      data = models[model_name]['runs'][run_idx]['data']\n",
        "      ax[0].plot(data['reward'])\n",
        "      ax[0].set_title('reward')\n",
        "      ax[1].plot(data['x'], data['y'])\n",
        "      ax[1].set_title('position')\n",
        "      ax[2].plot(data['vx'], data['vy'])\n",
        "      ax[2].set_title('velocity')\n",
        "      plt.tight_layout()\n",
        "      "
      ]
    },
    {
      "cell_type": "markdown",
      "metadata": {},
      "source": [
        "# Rewards"
      ]
    },
    {
      "cell_type": "code",
      "execution_count": 22,
      "metadata": {},
      "outputs": [
        {
          "name": "stdout",
          "output_type": "stream",
          "text": [
            "random: -84.58\n",
            "random: -222.23\n",
            "random: -175.50\n",
            "random: -167.85\n",
            "random: -30.62\n",
            "random: -298.41\n",
            "random: -387.59\n",
            "random: -441.15\n",
            "random: -332.07\n",
            "random: -170.02\n",
            "random: -298.44\n",
            "random: -178.78\n",
            "random: 2.07\n",
            "random: -215.06\n",
            "random: -249.00\n",
            "random: -161.29\n",
            "trained: -28.31\n",
            "trained: -86.46\n",
            "trained: -314.67\n",
            "trained: -40.17\n",
            "trained: -33.12\n",
            "trained: -137.18\n",
            "trained: -243.20\n",
            "trained: -32.47\n",
            "trained: -93.13\n",
            "trained: -77.55\n",
            "trained: -233.26\n",
            "trained: -112.91\n",
            "trained: -33.93\n",
            "trained: -55.08\n",
            "trained: -11.77\n",
            "trained: -64.51\n",
            "good: -17.88\n",
            "good: 12.27\n",
            "good: 80.43\n",
            "good: -140.53\n",
            "good: -6.87\n",
            "good: 265.26\n",
            "good: 247.57\n",
            "good: 6.11\n",
            "good: 251.08\n",
            "good: -18.18\n",
            "good: 58.82\n",
            "good: 0.83\n",
            "good: 82.66\n",
            "good: 41.12\n",
            "good: 29.06\n",
            "good: 42.86\n",
            "better: 292.01\n",
            "better: 244.05\n",
            "better: 292.39\n",
            "better: 316.78\n",
            "better: 287.64\n",
            "better: 305.41\n",
            "better: 297.39\n",
            "better: 283.23\n",
            "better: -167.55\n",
            "better: 306.69\n",
            "better: 280.88\n",
            "better: 262.24\n",
            "better: 297.33\n",
            "better: 245.49\n",
            "better: 275.81\n",
            "better: 276.15\n"
          ]
        }
      ],
      "source": [
        "for model_name in models.keys():\n",
        "    for run_idx in range(len(models[model_name]['runs'])):\n",
        "        data = models[model_name]['runs'][run_idx]['data']  \n",
        "        # Print the total reward for each model\n",
        "        print(f\"{model_name}: {np.sum(data['reward']):.2f}\")"
      ]
    },
    {
      "cell_type": "markdown",
      "metadata": {},
      "source": [
        "# Save model trajectories"
      ]
    },
    {
      "cell_type": "code",
      "execution_count": 23,
      "metadata": {},
      "outputs": [],
      "source": [
        "for model_name in models.keys():\n",
        "    for run_idx in range(len(models[model_name]['runs'])):\n",
        "        data = models[model_name]['runs'][run_idx]['data']  \n",
        "        data.to_parquet(f'data/lander/{model_name}_{run_idx}_trajectory.parquet')\n",
        "        "
      ]
    },
    {
      "cell_type": "code",
      "execution_count": 16,
      "metadata": {},
      "outputs": [
        {
          "data": {
            "text/plain": [
              "0      3\n",
              "1      0\n",
              "2      3\n",
              "3      3\n",
              "4      3\n",
              "      ..\n",
              "191    0\n",
              "192    0\n",
              "193    0\n",
              "194    0\n",
              "195    0\n",
              "Name: action, Length: 196, dtype: int64"
            ]
          },
          "execution_count": 16,
          "metadata": {},
          "output_type": "execute_result"
        }
      ],
      "source": [
        "data['action']"
      ]
    },
    {
      "cell_type": "markdown",
      "metadata": {},
      "source": [
        "# Write files"
      ]
    },
    {
      "cell_type": "code",
      "execution_count": 17,
      "metadata": {},
      "outputs": [],
      "source": [
        "# This section produces the data for a generative model of the Lunar Lander\n",
        "# Create a single dataframe with all the data\n",
        "# each row is a single run of a single model\n",
        "# each column is a single timestep of a single variable\n",
        "\n",
        "# NOTE:  There needs to be some thinking here.  I mean, while the position,\n",
        "# velocity, and angle are all continuous, the thrust is not.  So, we need to\n",
        "# thinkg about how to interpolate the thrust. I think the data in this case\n",
        "# needs to be \"ragged\" in the sense that each row has a different number of\n",
        "# entries.  However, perhaps we can also just look at the \"shortest\" run and\n",
        "# truncate all the other runs to that length. \n",
        "\n",
        "\n",
        "# TODO:  This is getting close, but is not there yet.  I want things like\n",
        "# 'x,x,x' to be something like 'x1,x2,x3' so that I can use the autoencoder\n",
        "# more easily.  Is that a matter of combining the columns?  I think so.  \n",
        "# How about keeping a dict to map times to indices?  That would work I think.\n",
        "\n",
        "def uniform_data_for_autoencoder(filename, entries_per_run=100):\n",
        "    all_data = []\n",
        "    for model_name in models.keys():\n",
        "        for run_idx in range(len(models[model_name]['runs'])):\n",
        "            df = models[model_name]['runs'][run_idx]['data'].copy()  \n",
        "\n",
        "            # index plays the role of timestep\n",
        "            df['timestamp'] = pd.to_datetime(df.index, unit='s')\n",
        "            df.set_index('timestamp', inplace=True)\n",
        "\n",
        "            # We now compute the delta t that gives us 100 total sample points for each run\n",
        "            # We do this by taking the total time of the run and dividing by 100\n",
        "            total_time = df.index[-1] - df.index[0]\n",
        "            delta_t = total_time / entries_per_run\n",
        "            df = df.resample(delta_t).interpolate()\n",
        "\n",
        "            df = pd.melt(df, \n",
        "                        value_vars=['x', 'y', 'vx', 'vy', 'theta', 'vtheta'], \n",
        "                        var_name='variable', \n",
        "                        ignore_index=False, \n",
        "                        value_name='value')\n",
        "            # How to add a few additional rows to the dataframe\n",
        "            df.loc[df.index[0]] = ['model_name', model_name]\n",
        "            df.loc[df.index[-1]] = ['total_time', total_time]\n",
        "            all_data.append(df)\n",
        "\n",
        "    # for i,df in enumerate(all_data):\n",
        "    #     if i == 0:\n",
        "    #         all_data = pd.DataFrame(df).T\n",
        "    #     df['run_idx'] = i    \n",
        "    # all_data = pd.concat(all_data)\n",
        "    # all_data.to_parquet(filename)\n",
        "    return all_data\n",
        "all_data = uniform_data_for_autoencoder('data/uniform_data_for_autoencoder.parquet')"
      ]
    },
    {
      "cell_type": "code",
      "execution_count": 18,
      "metadata": {},
      "outputs": [
        {
          "ename": "NameError",
          "evalue": "name 'df' is not defined",
          "output_type": "error",
          "traceback": [
            "\u001b[0;31m---------------------------------------------------------------------------\u001b[0m",
            "\u001b[0;31mNameError\u001b[0m                                 Traceback (most recent call last)",
            "Cell \u001b[0;32mIn[18], line 1\u001b[0m\n\u001b[0;32m----> 1\u001b[0m tmp \u001b[39m=\u001b[39m pd\u001b[39m.\u001b[39mDataFrame(columns\u001b[39m=\u001b[39mdf[\u001b[39m'\u001b[39m\u001b[39mvariable\u001b[39m\u001b[39m'\u001b[39m])\n\u001b[1;32m      2\u001b[0m tmp\u001b[39m.\u001b[39mloc[\u001b[39m-\u001b[39m\u001b[39m1\u001b[39m] \u001b[39m=\u001b[39m \u001b[39mlist\u001b[39m(df[\u001b[39m'\u001b[39m\u001b[39mvalue\u001b[39m\u001b[39m'\u001b[39m])\n\u001b[1;32m      3\u001b[0m tmp\n",
            "\u001b[0;31mNameError\u001b[0m: name 'df' is not defined"
          ]
        }
      ],
      "source": [
        "tmp = pd.DataFrame(columns=df['variable'])\n",
        "tmp.loc[-1] = list(df['value'])\n",
        "tmp\n"
      ]
    },
    {
      "cell_type": "code",
      "execution_count": null,
      "metadata": {},
      "outputs": [
        {
          "data": {
            "text/plain": [
              "timestamp\n",
              "1970-01-01 00:00:00.000             better\n",
              "1970-01-01 00:00:02.360          -0.016149\n",
              "1970-01-01 00:00:04.720          -0.025983\n",
              "1970-01-01 00:00:07.080          -0.035816\n",
              "1970-01-01 00:00:09.440          -0.045649\n",
              "                                ...       \n",
              "1970-01-01 00:03:46.560           0.006841\n",
              "1970-01-01 00:03:48.920            0.00513\n",
              "1970-01-01 00:03:51.280            0.00342\n",
              "1970-01-01 00:03:53.640            0.00171\n",
              "1970-01-01 00:03:56.000    0 days 00:03:56\n",
              "Name: value, Length: 606, dtype: object"
            ]
          },
          "execution_count": 73,
          "metadata": {},
          "output_type": "execute_result"
        }
      ],
      "source": [
        "df['value']"
      ]
    },
    {
      "cell_type": "code",
      "execution_count": null,
      "metadata": {},
      "outputs": [],
      "source": []
    }
  ],
  "metadata": {
    "colab": {
      "provenance": []
    },
    "interpreter": {
      "hash": "91c69d281b806a3add6b161e23d9089dcb392788fdbe6cdd17c006940cab5b65"
    },
    "jupytext": {
      "cell_metadata_filter": "-all",
      "formats": "ipynb,py:percent",
      "main_language": "python"
    },
    "kernelspec": {
      "display_name": "Python 3 (ipykernel)",
      "language": "python",
      "name": "python3"
    },
    "language_info": {
      "codemirror_mode": {
        "name": "ipython",
        "version": 3
      },
      "file_extension": ".py",
      "mimetype": "text/x-python",
      "name": "python",
      "nbconvert_exporter": "python",
      "pygments_lexer": "ipython3",
      "version": "3.8.10"
    },
    "toc-autonumbering": false,
    "toc-showcode": false,
    "toc-showmarkdowntxt": false,
    "toc-showtags": false
  },
  "nbformat": 4,
  "nbformat_minor": 0
}
