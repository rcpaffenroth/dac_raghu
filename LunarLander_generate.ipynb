{
  "cells": [
    {
      "cell_type": "markdown",
      "metadata": {
        "id": "fWT0bopBIPfa"
      },
      "source": [
        "<a target=\"_blank\" href=\"https://colab.research.google.com/github/rcpaffenroth/dac_raghu/blob/main/LunarLander.ipynb\">\n",
        "  <img src=\"https://colab.research.google.com/assets/colab-badge.svg\" alt=\"Open In Colab\"/>\n",
        "</a>"
      ]
    },
    {
      "cell_type": "markdown",
      "metadata": {
        "id": "-2iIpCtRVnAT"
      },
      "source": [
        "# Setup and libraries"
      ]
    },
    {
      "cell_type": "markdown",
      "metadata": {},
      "source": [
        "## Colab specific stuff\n",
        "\n",
        "This is some code to make sure that the notebook works in Colab. It's not used when you are running things locally."
      ]
    },
    {
      "cell_type": "code",
      "execution_count": 14,
      "metadata": {
        "id": "i7rbbIzgUsoH"
      },
      "outputs": [],
      "source": [
        "import sys\n",
        "IN_COLAB = 'google.colab' in sys.modules"
      ]
    },
    {
      "cell_type": "code",
      "execution_count": 15,
      "metadata": {
        "colab": {
          "base_uri": "https://localhost:8080/"
        },
        "id": "ruJt504TJgdh",
        "outputId": "ab6a4eb8-dffd-4e92-8b1d-31fd78cacf1f"
      },
      "outputs": [],
      "source": [
        "if IN_COLAB:\n",
        "  ! apt-get install swig\n",
        "  ! pip install stable-baselines3[extra] gymnasium[box2d] huggingface_sb3\n",
        "else:\n",
        "  # Otherwise, install locally and you need the following\n",
        "  # NOTE: Need \"gym\" and \"gymnasium\" installed, since we use \"gymnasium\" for the LunarLander environment\n",
        "  #       and \"gym\" is for huggingface_sb3.\n",
        "  # sudo apt install swig ffmpeg\n",
        "  # pip install stable-baselines3[extra] gymnasium[box2d] huggingface_sb3 imageio[ffmpeg] gym ipywidegets ipykernel pandas pyarrow\n",
        "  pass"
      ]
    },
    {
      "cell_type": "markdown",
      "metadata": {},
      "source": [
        "## Load the needed libraries\n",
        "\n",
        "These are the libraries I will be using for this notebook"
      ]
    },
    {
      "cell_type": "code",
      "execution_count": 16,
      "metadata": {
        "colab": {
          "base_uri": "https://localhost:8080/"
        },
        "id": "ObPgW5p7IJCW",
        "outputId": "f98150cb-fdbe-4107-d71a-cf0647206059"
      },
      "outputs": [],
      "source": [
        "import gymnasium as gym\n",
        "import matplotlib.pylab as plt\n",
        "import numpy as np\n",
        "\n",
        "import imageio\n",
        "from stable_baselines3 import PPO\n",
        "from huggingface_sb3 import load_from_hub\n",
        "\n",
        "import pandas as pd\n",
        "\n",
        "import json\n",
        "%matplotlib inline"
      ]
    },
    {
      "cell_type": "markdown",
      "metadata": {},
      "source": [
        "# The Lander environment.  \n",
        "\n",
        "It is trying to land softly between the two flags"
      ]
    },
    {
      "cell_type": "code",
      "execution_count": 17,
      "metadata": {
        "id": "f3qMKvCMIJCY"
      },
      "outputs": [],
      "source": [
        "# Make the environment\n",
        "env = gym.make(\"LunarLander-v2\", render_mode='rgb_array')\n",
        "observation = env.reset()\n"
      ]
    },
    {
      "cell_type": "markdown",
      "metadata": {},
      "source": [
        "There is the top level link to the library\n",
        "\n",
        "https://gymnasium.farama.org/\n",
        "\n",
        "Here is the Lunar Lander specific link\n",
        "\n",
        "https://gymnasium.farama.org/environments/box2d/lunar_lander/\n",
        "\n"
      ]
    },
    {
      "cell_type": "markdown",
      "metadata": {},
      "source": [
        "### Action Space\n",
        "There are four discrete actions available:\n",
        "\n",
        "0: do nothing\n",
        "\n",
        "1: fire left orientation engine\n",
        "\n",
        "2: fire main engine\n",
        "\n",
        "3: fire right orientation engine\n"
      ]
    },
    {
      "cell_type": "markdown",
      "metadata": {},
      "source": [
        "\n",
        "### Observation Space\n",
        "\n",
        "The state is an 8-dimensional vector: the coordinates of the lander in x & y, its linear velocities in x & y, its angle, its angular velocity, and two booleans that represent whether each leg is in contact with the ground or not."
      ]
    },
    {
      "cell_type": "code",
      "execution_count": 18,
      "metadata": {},
      "outputs": [],
      "source": [
        "obs_names = ['x', 'y', 'vx', 'vy', 'theta', 'vtheta', 'leg1', 'leg2']"
      ]
    },
    {
      "cell_type": "markdown",
      "metadata": {},
      "source": [
        "### Rewards\n",
        "\n",
        "After every step a reward is granted. The total reward of an episode is the sum of the rewards for all the steps within that episode.\n",
        "\n",
        "For each step, the reward:\n",
        "\n",
        "is increased/decreased the closer/further the lander is to the landing pad.\n",
        "\n",
        "is increased/decreased the slower/faster the lander is moving.\n",
        "\n",
        "is decreased the more the lander is tilted (angle not horizontal).\n",
        "\n",
        "is increased by 10 points for each leg that is in contact with the ground.\n",
        "\n",
        "is decreased by 0.03 points each frame a side engine is firing.\n",
        "\n",
        "is decreased by 0.3 points each frame the main engine is firing.\n",
        "\n",
        "The episode receive an additional reward of -100 or +100 points for crashing or landing safely respectively.\n",
        "\n",
        "An episode is considered a solution if it scores at least 200 points."
      ]
    },
    {
      "cell_type": "markdown",
      "metadata": {},
      "source": [
        "### Starting State\n",
        "\n",
        "The lander starts at the top center of the viewport with a random initial force applied to its center of mass."
      ]
    },
    {
      "cell_type": "markdown",
      "metadata": {},
      "source": [
        "### Episode Termination\n",
        "\n",
        "The episode finishes if:\n",
        "\n",
        "the lander crashes (the lander body gets in contact with the moon);\n",
        "\n",
        "the lander gets outside of the viewport (x coordinate is greater than 1);\n",
        "\n",
        "the lander is not awake. From the Box2D docs, a body which is not awake is a body which doesn’t move and doesn’t collide with any other body:\n",
        "\n",
        "When Box2D determines that a body (or group of bodies) has come to rest, the body enters a sleep state which has very little CPU overhead. If a body is awake and collides with a sleeping body, then the sleeping body wakes up. Bodies will also wake up if a joint or contact attached to them is destroyed."
      ]
    },
    {
      "cell_type": "markdown",
      "metadata": {
        "id": "U9xZJaSBVYGZ"
      },
      "source": [
        "# Training and downloading models"
      ]
    },
    {
      "cell_type": "code",
      "execution_count": 19,
      "metadata": {},
      "outputs": [],
      "source": [
        "models = {}"
      ]
    },
    {
      "cell_type": "code",
      "execution_count": 20,
      "metadata": {
        "id": "gYpJvvJ1YwBs"
      },
      "outputs": [],
      "source": [
        "class RandomModel(object):\n",
        "  def __init__(self, env):\n",
        "    self.env = env\n",
        "\n",
        "  def predict(self, obs):\n",
        "    return env.action_space.sample(), None # The second return value is the state value, which the random model does not use\n",
        "\n",
        "random_model =  RandomModel(env)\n",
        "models['random'] = {}\n",
        "models['random']['model'] = random_model\n",
        "models['random']['runs'] = []"
      ]
    },
    {
      "cell_type": "code",
      "execution_count": 21,
      "metadata": {
        "colab": {
          "base_uri": "https://localhost:8080/"
        },
        "id": "Y_LcXjSjIJCa",
        "outputId": "d86fc160-2ed6-4efa-befd-a2b2edb82da6"
      },
      "outputs": [],
      "source": [
        "# This is an trained model that has a good architecture and loss function, but is not trained very much.  This takes about 30 sec on \n",
        "# a RTX 4090\n",
        "trained_model = PPO(\"MlpPolicy\", env)\n",
        "trained_model.learn(total_timesteps=20000)\n",
        "\n",
        "models['trained'] = {}\n",
        "models['trained']['model'] = trained_model\n",
        "models['trained']['runs'] = []"
      ]
    },
    {
      "cell_type": "code",
      "execution_count": 22,
      "metadata": {
        "colab": {
          "base_uri": "https://localhost:8080/"
        },
        "id": "mK-mnlzyWXmb",
        "outputId": "e6dde32e-374c-47df-e299-60ed1093c16a"
      },
      "outputs": [
        {
          "name": "stderr",
          "output_type": "stream",
          "text": [
            "/home/rcpaffenroth/projects/dac_raghu/venv/lib/python3.8/site-packages/stable_baselines3/common/save_util.py:166: UserWarning: Could not deserialize object learning_rate. Consider using `custom_objects` argument to replace this object.\n",
            "Exception: an integer is required (got type bytes)\n",
            "  warnings.warn(\n",
            "/home/rcpaffenroth/projects/dac_raghu/venv/lib/python3.8/site-packages/stable_baselines3/common/save_util.py:166: UserWarning: Could not deserialize object lr_schedule. Consider using `custom_objects` argument to replace this object.\n",
            "Exception: an integer is required (got type bytes)\n",
            "  warnings.warn(\n",
            "/home/rcpaffenroth/projects/dac_raghu/venv/lib/python3.8/site-packages/stable_baselines3/common/vec_env/patch_gym.py:95: UserWarning: You loaded a model that was trained using OpenAI Gym. We strongly recommend transitioning to Gymnasium by saving that model again.\n",
            "  warnings.warn(\n"
          ]
        }
      ],
      "source": [
        "# This is a model from huggingface.co at https://huggingface.co/sb3/a2c-LunarLander-v2\n",
        "# Mean reward: 181.08 +/- 95.35\n",
        "checkpoint = load_from_hub(\n",
        "    repo_id=\"sb3/a2c-LunarLander-v2\",\n",
        "    filename=\"a2c-LunarLander-v2.zip\",\n",
        ")\n",
        "\n",
        "good_model = PPO.load(checkpoint)\n",
        "\n",
        "models['good'] = {}\n",
        "models['good']['model'] = good_model\n",
        "models['good']['runs'] = []"
      ]
    },
    {
      "cell_type": "code",
      "execution_count": 23,
      "metadata": {},
      "outputs": [
        {
          "name": "stderr",
          "output_type": "stream",
          "text": [
            "/home/rcpaffenroth/projects/dac_raghu/venv/lib/python3.8/site-packages/stable_baselines3/common/save_util.py:166: UserWarning: Could not deserialize object clip_range. Consider using `custom_objects` argument to replace this object.\n",
            "Exception: an integer is required (got type bytes)\n",
            "  warnings.warn(\n"
          ]
        }
      ],
      "source": [
        "# This is a model from huggingface.co at https://huggingface.co/araffin/ppo-LunarLander-v2\n",
        "# Mean reward:  283.49 +/- 13.74\n",
        "checkpoint = load_from_hub(\n",
        "    repo_id=\"araffin/ppo-LunarLander-v2\",\n",
        "    filename=\"ppo-LunarLander-v2.zip\",\n",
        ")\n",
        "\n",
        "better_model = PPO.load(checkpoint)\n",
        "models['better'] = {}\n",
        "models['better']['model'] = better_model\n",
        "models['better']['runs'] = []"
      ]
    },
    {
      "cell_type": "markdown",
      "metadata": {
        "id": "Yq_dUEp9YkcA"
      },
      "source": [
        "# Evaluate models"
      ]
    },
    {
      "cell_type": "code",
      "execution_count": 24,
      "metadata": {
        "id": "cOBZwfCqIJCc"
      },
      "outputs": [],
      "source": [
        "def evaluate_model(model_name, run_idx, models=models, env=env):\n",
        "   # Make a movie of a trained agent\n",
        "   obs = env.reset()[0]\n",
        "\n",
        "   # Get the model\n",
        "   model = models[model_name]['model']\n",
        "   images = []\n",
        "   all_obs = []\n",
        "   all_actions = []\n",
        "   all_rewards = []\n",
        "   done = False\n",
        "   while not done:\n",
        "      # This rendering mode puts an image into a numpy array\n",
        "      images += [env.render()]\n",
        "      action, _state = model.predict(obs)\n",
        "      all_obs.append(obs)\n",
        "      all_actions.append(int(action))\n",
        "      obs, reward, done, trunc, info = env.step(action)\n",
        "      all_rewards.append(reward)\n",
        "   env.close()\n",
        "\n",
        "   # Save the trajectory\n",
        "   df = pd.DataFrame(all_obs, columns=obs_names)\n",
        "   df['action'] = all_actions\n",
        "   df['reward'] = all_rewards\n",
        "   df.to_parquet(f'data/lander/{model_name}_{run_idx}_trajectory.parquet')\n",
        "\n",
        "   # Save the movie\n",
        "   imageio.mimsave(f'data/lander/{model_name}_{run_idx}_trajectory.mp4', images, fps=15)\n"
      ]
    },
    {
      "cell_type": "code",
      "execution_count": 25,
      "metadata": {},
      "outputs": [
        {
          "name": "stderr",
          "output_type": "stream",
          "text": [
            "IMAGEIO FFMPEG_WRITER WARNING: input image is not divisible by macro_block_size=16, resizing from (600, 400) to (608, 400) to ensure video compatibility with most codecs and players. To prevent resizing, make your input image divisible by the macro_block_size or set the macro_block_size to 1 (risking incompatibility).\n",
            "[swscaler @ 0x68be900] Warning: data is not aligned! This can lead to a speed loss\n",
            "IMAGEIO FFMPEG_WRITER WARNING: input image is not divisible by macro_block_size=16, resizing from (600, 400) to (608, 400) to ensure video compatibility with most codecs and players. To prevent resizing, make your input image divisible by the macro_block_size or set the macro_block_size to 1 (risking incompatibility).\n",
            "[swscaler @ 0x680c900] Warning: data is not aligned! This can lead to a speed loss\n",
            "IMAGEIO FFMPEG_WRITER WARNING: input image is not divisible by macro_block_size=16, resizing from (600, 400) to (608, 400) to ensure video compatibility with most codecs and players. To prevent resizing, make your input image divisible by the macro_block_size or set the macro_block_size to 1 (risking incompatibility).\n",
            "[swscaler @ 0x6116cc0] Warning: data is not aligned! This can lead to a speed loss\n",
            "IMAGEIO FFMPEG_WRITER WARNING: input image is not divisible by macro_block_size=16, resizing from (600, 400) to (608, 400) to ensure video compatibility with most codecs and players. To prevent resizing, make your input image divisible by the macro_block_size or set the macro_block_size to 1 (risking incompatibility).\n",
            "[swscaler @ 0x74c4900] Warning: data is not aligned! This can lead to a speed loss\n",
            "IMAGEIO FFMPEG_WRITER WARNING: input image is not divisible by macro_block_size=16, resizing from (600, 400) to (608, 400) to ensure video compatibility with most codecs and players. To prevent resizing, make your input image divisible by the macro_block_size or set the macro_block_size to 1 (risking incompatibility).\n",
            "[swscaler @ 0x68e3900] Warning: data is not aligned! This can lead to a speed loss\n",
            "IMAGEIO FFMPEG_WRITER WARNING: input image is not divisible by macro_block_size=16, resizing from (600, 400) to (608, 400) to ensure video compatibility with most codecs and players. To prevent resizing, make your input image divisible by the macro_block_size or set the macro_block_size to 1 (risking incompatibility).\n",
            "[swscaler @ 0x5554900] Warning: data is not aligned! This can lead to a speed loss\n",
            "IMAGEIO FFMPEG_WRITER WARNING: input image is not divisible by macro_block_size=16, resizing from (600, 400) to (608, 400) to ensure video compatibility with most codecs and players. To prevent resizing, make your input image divisible by the macro_block_size or set the macro_block_size to 1 (risking incompatibility).\n",
            "[swscaler @ 0x69f9cc0] Warning: data is not aligned! This can lead to a speed loss\n",
            "IMAGEIO FFMPEG_WRITER WARNING: input image is not divisible by macro_block_size=16, resizing from (600, 400) to (608, 400) to ensure video compatibility with most codecs and players. To prevent resizing, make your input image divisible by the macro_block_size or set the macro_block_size to 1 (risking incompatibility).\n",
            "[swscaler @ 0x7512900] Warning: data is not aligned! This can lead to a speed loss\n",
            "IMAGEIO FFMPEG_WRITER WARNING: input image is not divisible by macro_block_size=16, resizing from (600, 400) to (608, 400) to ensure video compatibility with most codecs and players. To prevent resizing, make your input image divisible by the macro_block_size or set the macro_block_size to 1 (risking incompatibility).\n",
            "[swscaler @ 0x5ada900] Warning: data is not aligned! This can lead to a speed loss\n",
            "IMAGEIO FFMPEG_WRITER WARNING: input image is not divisible by macro_block_size=16, resizing from (600, 400) to (608, 400) to ensure video compatibility with most codecs and players. To prevent resizing, make your input image divisible by the macro_block_size or set the macro_block_size to 1 (risking incompatibility).\n",
            "[swscaler @ 0x5f11900] Warning: data is not aligned! This can lead to a speed loss\n",
            "IMAGEIO FFMPEG_WRITER WARNING: input image is not divisible by macro_block_size=16, resizing from (600, 400) to (608, 400) to ensure video compatibility with most codecs and players. To prevent resizing, make your input image divisible by the macro_block_size or set the macro_block_size to 1 (risking incompatibility).\n",
            "[swscaler @ 0x5b20cc0] Warning: data is not aligned! This can lead to a speed loss\n",
            "IMAGEIO FFMPEG_WRITER WARNING: input image is not divisible by macro_block_size=16, resizing from (600, 400) to (608, 400) to ensure video compatibility with most codecs and players. To prevent resizing, make your input image divisible by the macro_block_size or set the macro_block_size to 1 (risking incompatibility).\n",
            "[swscaler @ 0x5aa4900] Warning: data is not aligned! This can lead to a speed loss\n",
            "IMAGEIO FFMPEG_WRITER WARNING: input image is not divisible by macro_block_size=16, resizing from (600, 400) to (608, 400) to ensure video compatibility with most codecs and players. To prevent resizing, make your input image divisible by the macro_block_size or set the macro_block_size to 1 (risking incompatibility).\n",
            "[swscaler @ 0x5769900] Warning: data is not aligned! This can lead to a speed loss\n",
            "IMAGEIO FFMPEG_WRITER WARNING: input image is not divisible by macro_block_size=16, resizing from (600, 400) to (608, 400) to ensure video compatibility with most codecs and players. To prevent resizing, make your input image divisible by the macro_block_size or set the macro_block_size to 1 (risking incompatibility).\n",
            "[swscaler @ 0x6647900] Warning: data is not aligned! This can lead to a speed loss\n",
            "IMAGEIO FFMPEG_WRITER WARNING: input image is not divisible by macro_block_size=16, resizing from (600, 400) to (608, 400) to ensure video compatibility with most codecs and players. To prevent resizing, make your input image divisible by the macro_block_size or set the macro_block_size to 1 (risking incompatibility).\n",
            "[swscaler @ 0x6b12cc0] Warning: data is not aligned! This can lead to a speed loss\n",
            "IMAGEIO FFMPEG_WRITER WARNING: input image is not divisible by macro_block_size=16, resizing from (600, 400) to (608, 400) to ensure video compatibility with most codecs and players. To prevent resizing, make your input image divisible by the macro_block_size or set the macro_block_size to 1 (risking incompatibility).\n",
            "[swscaler @ 0x5b10900] Warning: data is not aligned! This can lead to a speed loss\n",
            "IMAGEIO FFMPEG_WRITER WARNING: input image is not divisible by macro_block_size=16, resizing from (600, 400) to (608, 400) to ensure video compatibility with most codecs and players. To prevent resizing, make your input image divisible by the macro_block_size or set the macro_block_size to 1 (risking incompatibility).\n",
            "[swscaler @ 0x5900900] Warning: data is not aligned! This can lead to a speed loss\n",
            "IMAGEIO FFMPEG_WRITER WARNING: input image is not divisible by macro_block_size=16, resizing from (600, 400) to (608, 400) to ensure video compatibility with most codecs and players. To prevent resizing, make your input image divisible by the macro_block_size or set the macro_block_size to 1 (risking incompatibility).\n",
            "[swscaler @ 0x6a90900] Warning: data is not aligned! This can lead to a speed loss\n",
            "IMAGEIO FFMPEG_WRITER WARNING: input image is not divisible by macro_block_size=16, resizing from (600, 400) to (608, 400) to ensure video compatibility with most codecs and players. To prevent resizing, make your input image divisible by the macro_block_size or set the macro_block_size to 1 (risking incompatibility).\n",
            "[swscaler @ 0x70e1cc0] Warning: data is not aligned! This can lead to a speed loss\n",
            "IMAGEIO FFMPEG_WRITER WARNING: input image is not divisible by macro_block_size=16, resizing from (600, 400) to (608, 400) to ensure video compatibility with most codecs and players. To prevent resizing, make your input image divisible by the macro_block_size or set the macro_block_size to 1 (risking incompatibility).\n",
            "[swscaler @ 0x709d900] Warning: data is not aligned! This can lead to a speed loss\n",
            "IMAGEIO FFMPEG_WRITER WARNING: input image is not divisible by macro_block_size=16, resizing from (600, 400) to (608, 400) to ensure video compatibility with most codecs and players. To prevent resizing, make your input image divisible by the macro_block_size or set the macro_block_size to 1 (risking incompatibility).\n",
            "[swscaler @ 0x57e5900] Warning: data is not aligned! This can lead to a speed loss\n",
            "IMAGEIO FFMPEG_WRITER WARNING: input image is not divisible by macro_block_size=16, resizing from (600, 400) to (608, 400) to ensure video compatibility with most codecs and players. To prevent resizing, make your input image divisible by the macro_block_size or set the macro_block_size to 1 (risking incompatibility).\n",
            "[swscaler @ 0x5866900] Warning: data is not aligned! This can lead to a speed loss\n",
            "IMAGEIO FFMPEG_WRITER WARNING: input image is not divisible by macro_block_size=16, resizing from (600, 400) to (608, 400) to ensure video compatibility with most codecs and players. To prevent resizing, make your input image divisible by the macro_block_size or set the macro_block_size to 1 (risking incompatibility).\n",
            "[swscaler @ 0x6dffcc0] Warning: data is not aligned! This can lead to a speed loss\n",
            "IMAGEIO FFMPEG_WRITER WARNING: input image is not divisible by macro_block_size=16, resizing from (600, 400) to (608, 400) to ensure video compatibility with most codecs and players. To prevent resizing, make your input image divisible by the macro_block_size or set the macro_block_size to 1 (risking incompatibility).\n",
            "[swscaler @ 0x6ec1900] Warning: data is not aligned! This can lead to a speed loss\n",
            "IMAGEIO FFMPEG_WRITER WARNING: input image is not divisible by macro_block_size=16, resizing from (600, 400) to (608, 400) to ensure video compatibility with most codecs and players. To prevent resizing, make your input image divisible by the macro_block_size or set the macro_block_size to 1 (risking incompatibility).\n",
            "[swscaler @ 0x5585900] Warning: data is not aligned! This can lead to a speed loss\n",
            "IMAGEIO FFMPEG_WRITER WARNING: input image is not divisible by macro_block_size=16, resizing from (600, 400) to (608, 400) to ensure video compatibility with most codecs and players. To prevent resizing, make your input image divisible by the macro_block_size or set the macro_block_size to 1 (risking incompatibility).\n",
            "[swscaler @ 0x5e88900] Warning: data is not aligned! This can lead to a speed loss\n",
            "IMAGEIO FFMPEG_WRITER WARNING: input image is not divisible by macro_block_size=16, resizing from (600, 400) to (608, 400) to ensure video compatibility with most codecs and players. To prevent resizing, make your input image divisible by the macro_block_size or set the macro_block_size to 1 (risking incompatibility).\n",
            "[swscaler @ 0x69dccc0] Warning: data is not aligned! This can lead to a speed loss\n",
            "IMAGEIO FFMPEG_WRITER WARNING: input image is not divisible by macro_block_size=16, resizing from (600, 400) to (608, 400) to ensure video compatibility with most codecs and players. To prevent resizing, make your input image divisible by the macro_block_size or set the macro_block_size to 1 (risking incompatibility).\n",
            "[swscaler @ 0x6058900] Warning: data is not aligned! This can lead to a speed loss\n",
            "IMAGEIO FFMPEG_WRITER WARNING: input image is not divisible by macro_block_size=16, resizing from (600, 400) to (608, 400) to ensure video compatibility with most codecs and players. To prevent resizing, make your input image divisible by the macro_block_size or set the macro_block_size to 1 (risking incompatibility).\n",
            "[swscaler @ 0x71ac900] Warning: data is not aligned! This can lead to a speed loss\n",
            "IMAGEIO FFMPEG_WRITER WARNING: input image is not divisible by macro_block_size=16, resizing from (600, 400) to (608, 400) to ensure video compatibility with most codecs and players. To prevent resizing, make your input image divisible by the macro_block_size or set the macro_block_size to 1 (risking incompatibility).\n",
            "[swscaler @ 0x6509900] Warning: data is not aligned! This can lead to a speed loss\n",
            "IMAGEIO FFMPEG_WRITER WARNING: input image is not divisible by macro_block_size=16, resizing from (600, 400) to (608, 400) to ensure video compatibility with most codecs and players. To prevent resizing, make your input image divisible by the macro_block_size or set the macro_block_size to 1 (risking incompatibility).\n",
            "[swscaler @ 0x68f4cc0] Warning: data is not aligned! This can lead to a speed loss\n",
            "IMAGEIO FFMPEG_WRITER WARNING: input image is not divisible by macro_block_size=16, resizing from (600, 400) to (608, 400) to ensure video compatibility with most codecs and players. To prevent resizing, make your input image divisible by the macro_block_size or set the macro_block_size to 1 (risking incompatibility).\n",
            "[swscaler @ 0x6682900] Warning: data is not aligned! This can lead to a speed loss\n",
            "IMAGEIO FFMPEG_WRITER WARNING: input image is not divisible by macro_block_size=16, resizing from (600, 400) to (608, 400) to ensure video compatibility with most codecs and players. To prevent resizing, make your input image divisible by the macro_block_size or set the macro_block_size to 1 (risking incompatibility).\n",
            "[swscaler @ 0x606a900] Warning: data is not aligned! This can lead to a speed loss\n",
            "IMAGEIO FFMPEG_WRITER WARNING: input image is not divisible by macro_block_size=16, resizing from (600, 400) to (608, 400) to ensure video compatibility with most codecs and players. To prevent resizing, make your input image divisible by the macro_block_size or set the macro_block_size to 1 (risking incompatibility).\n",
            "[swscaler @ 0x68cc900] Warning: data is not aligned! This can lead to a speed loss\n",
            "IMAGEIO FFMPEG_WRITER WARNING: input image is not divisible by macro_block_size=16, resizing from (600, 400) to (608, 400) to ensure video compatibility with most codecs and players. To prevent resizing, make your input image divisible by the macro_block_size or set the macro_block_size to 1 (risking incompatibility).\n",
            "[swscaler @ 0x605ecc0] Warning: data is not aligned! This can lead to a speed loss\n",
            "IMAGEIO FFMPEG_WRITER WARNING: input image is not divisible by macro_block_size=16, resizing from (600, 400) to (608, 400) to ensure video compatibility with most codecs and players. To prevent resizing, make your input image divisible by the macro_block_size or set the macro_block_size to 1 (risking incompatibility).\n",
            "[swscaler @ 0x5532900] Warning: data is not aligned! This can lead to a speed loss\n",
            "IMAGEIO FFMPEG_WRITER WARNING: input image is not divisible by macro_block_size=16, resizing from (600, 400) to (608, 400) to ensure video compatibility with most codecs and players. To prevent resizing, make your input image divisible by the macro_block_size or set the macro_block_size to 1 (risking incompatibility).\n",
            "[swscaler @ 0x7481900] Warning: data is not aligned! This can lead to a speed loss\n",
            "IMAGEIO FFMPEG_WRITER WARNING: input image is not divisible by macro_block_size=16, resizing from (600, 400) to (608, 400) to ensure video compatibility with most codecs and players. To prevent resizing, make your input image divisible by the macro_block_size or set the macro_block_size to 1 (risking incompatibility).\n",
            "[swscaler @ 0x5ed6900] Warning: data is not aligned! This can lead to a speed loss\n",
            "IMAGEIO FFMPEG_WRITER WARNING: input image is not divisible by macro_block_size=16, resizing from (600, 400) to (608, 400) to ensure video compatibility with most codecs and players. To prevent resizing, make your input image divisible by the macro_block_size or set the macro_block_size to 1 (risking incompatibility).\n",
            "[swscaler @ 0x5f90cc0] Warning: data is not aligned! This can lead to a speed loss\n",
            "IMAGEIO FFMPEG_WRITER WARNING: input image is not divisible by macro_block_size=16, resizing from (600, 400) to (608, 400) to ensure video compatibility with most codecs and players. To prevent resizing, make your input image divisible by the macro_block_size or set the macro_block_size to 1 (risking incompatibility).\n",
            "[swscaler @ 0x7031900] Warning: data is not aligned! This can lead to a speed loss\n",
            "IMAGEIO FFMPEG_WRITER WARNING: input image is not divisible by macro_block_size=16, resizing from (600, 400) to (608, 400) to ensure video compatibility with most codecs and players. To prevent resizing, make your input image divisible by the macro_block_size or set the macro_block_size to 1 (risking incompatibility).\n",
            "[swscaler @ 0x5f95900] Warning: data is not aligned! This can lead to a speed loss\n",
            "IMAGEIO FFMPEG_WRITER WARNING: input image is not divisible by macro_block_size=16, resizing from (600, 400) to (608, 400) to ensure video compatibility with most codecs and players. To prevent resizing, make your input image divisible by the macro_block_size or set the macro_block_size to 1 (risking incompatibility).\n",
            "[swscaler @ 0x59c1900] Warning: data is not aligned! This can lead to a speed loss\n",
            "IMAGEIO FFMPEG_WRITER WARNING: input image is not divisible by macro_block_size=16, resizing from (600, 400) to (608, 400) to ensure video compatibility with most codecs and players. To prevent resizing, make your input image divisible by the macro_block_size or set the macro_block_size to 1 (risking incompatibility).\n",
            "[swscaler @ 0x68a3900] Warning: data is not aligned! This can lead to a speed loss\n",
            "IMAGEIO FFMPEG_WRITER WARNING: input image is not divisible by macro_block_size=16, resizing from (600, 400) to (608, 400) to ensure video compatibility with most codecs and players. To prevent resizing, make your input image divisible by the macro_block_size or set the macro_block_size to 1 (risking incompatibility).\n",
            "[swscaler @ 0x60c4900] Warning: data is not aligned! This can lead to a speed loss\n",
            "IMAGEIO FFMPEG_WRITER WARNING: input image is not divisible by macro_block_size=16, resizing from (600, 400) to (608, 400) to ensure video compatibility with most codecs and players. To prevent resizing, make your input image divisible by the macro_block_size or set the macro_block_size to 1 (risking incompatibility).\n",
            "[swscaler @ 0x5c4f900] Warning: data is not aligned! This can lead to a speed loss\n",
            "IMAGEIO FFMPEG_WRITER WARNING: input image is not divisible by macro_block_size=16, resizing from (600, 400) to (608, 400) to ensure video compatibility with most codecs and players. To prevent resizing, make your input image divisible by the macro_block_size or set the macro_block_size to 1 (risking incompatibility).\n",
            "[swscaler @ 0x7391900] Warning: data is not aligned! This can lead to a speed loss\n",
            "IMAGEIO FFMPEG_WRITER WARNING: input image is not divisible by macro_block_size=16, resizing from (600, 400) to (608, 400) to ensure video compatibility with most codecs and players. To prevent resizing, make your input image divisible by the macro_block_size or set the macro_block_size to 1 (risking incompatibility).\n",
            "[swscaler @ 0x5ba2900] Warning: data is not aligned! This can lead to a speed loss\n",
            "IMAGEIO FFMPEG_WRITER WARNING: input image is not divisible by macro_block_size=16, resizing from (600, 400) to (608, 400) to ensure video compatibility with most codecs and players. To prevent resizing, make your input image divisible by the macro_block_size or set the macro_block_size to 1 (risking incompatibility).\n",
            "[swscaler @ 0x6808900] Warning: data is not aligned! This can lead to a speed loss\n",
            "IMAGEIO FFMPEG_WRITER WARNING: input image is not divisible by macro_block_size=16, resizing from (600, 400) to (608, 400) to ensure video compatibility with most codecs and players. To prevent resizing, make your input image divisible by the macro_block_size or set the macro_block_size to 1 (risking incompatibility).\n",
            "[swscaler @ 0x6bd4900] Warning: data is not aligned! This can lead to a speed loss\n",
            "IMAGEIO FFMPEG_WRITER WARNING: input image is not divisible by macro_block_size=16, resizing from (600, 400) to (608, 400) to ensure video compatibility with most codecs and players. To prevent resizing, make your input image divisible by the macro_block_size or set the macro_block_size to 1 (risking incompatibility).\n",
            "[swscaler @ 0x6740900] Warning: data is not aligned! This can lead to a speed loss\n",
            "IMAGEIO FFMPEG_WRITER WARNING: input image is not divisible by macro_block_size=16, resizing from (600, 400) to (608, 400) to ensure video compatibility with most codecs and players. To prevent resizing, make your input image divisible by the macro_block_size or set the macro_block_size to 1 (risking incompatibility).\n",
            "[swscaler @ 0x6fc4900] Warning: data is not aligned! This can lead to a speed loss\n",
            "IMAGEIO FFMPEG_WRITER WARNING: input image is not divisible by macro_block_size=16, resizing from (600, 400) to (608, 400) to ensure video compatibility with most codecs and players. To prevent resizing, make your input image divisible by the macro_block_size or set the macro_block_size to 1 (risking incompatibility).\n",
            "[swscaler @ 0x5de9900] Warning: data is not aligned! This can lead to a speed loss\n",
            "IMAGEIO FFMPEG_WRITER WARNING: input image is not divisible by macro_block_size=16, resizing from (600, 400) to (608, 400) to ensure video compatibility with most codecs and players. To prevent resizing, make your input image divisible by the macro_block_size or set the macro_block_size to 1 (risking incompatibility).\n",
            "[swscaler @ 0x60db900] Warning: data is not aligned! This can lead to a speed loss\n",
            "IMAGEIO FFMPEG_WRITER WARNING: input image is not divisible by macro_block_size=16, resizing from (600, 400) to (608, 400) to ensure video compatibility with most codecs and players. To prevent resizing, make your input image divisible by the macro_block_size or set the macro_block_size to 1 (risking incompatibility).\n",
            "[swscaler @ 0x60a0900] Warning: data is not aligned! This can lead to a speed loss\n",
            "IMAGEIO FFMPEG_WRITER WARNING: input image is not divisible by macro_block_size=16, resizing from (600, 400) to (608, 400) to ensure video compatibility with most codecs and players. To prevent resizing, make your input image divisible by the macro_block_size or set the macro_block_size to 1 (risking incompatibility).\n",
            "[swscaler @ 0x6845900] Warning: data is not aligned! This can lead to a speed loss\n",
            "IMAGEIO FFMPEG_WRITER WARNING: input image is not divisible by macro_block_size=16, resizing from (600, 400) to (608, 400) to ensure video compatibility with most codecs and players. To prevent resizing, make your input image divisible by the macro_block_size or set the macro_block_size to 1 (risking incompatibility).\n",
            "[swscaler @ 0x6a3b900] Warning: data is not aligned! This can lead to a speed loss\n",
            "IMAGEIO FFMPEG_WRITER WARNING: input image is not divisible by macro_block_size=16, resizing from (600, 400) to (608, 400) to ensure video compatibility with most codecs and players. To prevent resizing, make your input image divisible by the macro_block_size or set the macro_block_size to 1 (risking incompatibility).\n",
            "[swscaler @ 0x5a41900] Warning: data is not aligned! This can lead to a speed loss\n",
            "IMAGEIO FFMPEG_WRITER WARNING: input image is not divisible by macro_block_size=16, resizing from (600, 400) to (608, 400) to ensure video compatibility with most codecs and players. To prevent resizing, make your input image divisible by the macro_block_size or set the macro_block_size to 1 (risking incompatibility).\n",
            "[swscaler @ 0x663f900] Warning: data is not aligned! This can lead to a speed loss\n",
            "IMAGEIO FFMPEG_WRITER WARNING: input image is not divisible by macro_block_size=16, resizing from (600, 400) to (608, 400) to ensure video compatibility with most codecs and players. To prevent resizing, make your input image divisible by the macro_block_size or set the macro_block_size to 1 (risking incompatibility).\n",
            "[swscaler @ 0x6a4b900] Warning: data is not aligned! This can lead to a speed loss\n",
            "IMAGEIO FFMPEG_WRITER WARNING: input image is not divisible by macro_block_size=16, resizing from (600, 400) to (608, 400) to ensure video compatibility with most codecs and players. To prevent resizing, make your input image divisible by the macro_block_size or set the macro_block_size to 1 (risking incompatibility).\n",
            "[swscaler @ 0x6cab900] Warning: data is not aligned! This can lead to a speed loss\n",
            "IMAGEIO FFMPEG_WRITER WARNING: input image is not divisible by macro_block_size=16, resizing from (600, 400) to (608, 400) to ensure video compatibility with most codecs and players. To prevent resizing, make your input image divisible by the macro_block_size or set the macro_block_size to 1 (risking incompatibility).\n",
            "[swscaler @ 0x5bb4900] Warning: data is not aligned! This can lead to a speed loss\n",
            "IMAGEIO FFMPEG_WRITER WARNING: input image is not divisible by macro_block_size=16, resizing from (600, 400) to (608, 400) to ensure video compatibility with most codecs and players. To prevent resizing, make your input image divisible by the macro_block_size or set the macro_block_size to 1 (risking incompatibility).\n",
            "[swscaler @ 0x5fc3900] Warning: data is not aligned! This can lead to a speed loss\n",
            "IMAGEIO FFMPEG_WRITER WARNING: input image is not divisible by macro_block_size=16, resizing from (600, 400) to (608, 400) to ensure video compatibility with most codecs and players. To prevent resizing, make your input image divisible by the macro_block_size or set the macro_block_size to 1 (risking incompatibility).\n",
            "[swscaler @ 0x72b9900] Warning: data is not aligned! This can lead to a speed loss\n",
            "IMAGEIO FFMPEG_WRITER WARNING: input image is not divisible by macro_block_size=16, resizing from (600, 400) to (608, 400) to ensure video compatibility with most codecs and players. To prevent resizing, make your input image divisible by the macro_block_size or set the macro_block_size to 1 (risking incompatibility).\n",
            "[swscaler @ 0x62ba900] Warning: data is not aligned! This can lead to a speed loss\n"
          ]
        }
      ],
      "source": [
        "# For 16 trajectories, this takes about 40 seconds on a RTX 4090\n",
        "number_of_trajectories = 16\n",
        "\n",
        "info = {'models': ['random', 'trained', 'good', 'better'],\n",
        "        'number_of_trajectories': number_of_trajectories,\n",
        "}\n",
        "\n",
        "json.dump(info, open('data/lander/info.json', 'w'))\n",
        "\n",
        "for i in range(number_of_trajectories):\n",
        "    evaluate_model('random', i)\n",
        "    evaluate_model('trained', i)\n",
        "    evaluate_model('good', i)\n",
        "    evaluate_model('better', i)"
      ]
    }
  ],
  "metadata": {
    "colab": {
      "provenance": []
    },
    "interpreter": {
      "hash": "91c69d281b806a3add6b161e23d9089dcb392788fdbe6cdd17c006940cab5b65"
    },
    "jupytext": {
      "cell_metadata_filter": "-all",
      "formats": "ipynb,py:percent",
      "main_language": "python"
    },
    "kernelspec": {
      "display_name": "Python 3 (ipykernel)",
      "language": "python",
      "name": "python3"
    },
    "language_info": {
      "codemirror_mode": {
        "name": "ipython",
        "version": 3
      },
      "file_extension": ".py",
      "mimetype": "text/x-python",
      "name": "python",
      "nbconvert_exporter": "python",
      "pygments_lexer": "ipython3",
      "version": "3.8.10"
    },
    "toc-autonumbering": false,
    "toc-showcode": false,
    "toc-showmarkdowntxt": false,
    "toc-showtags": false
  },
  "nbformat": 4,
  "nbformat_minor": 0
}
