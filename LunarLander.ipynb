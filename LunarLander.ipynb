{
  "cells": [
    {
      "cell_type": "markdown",
      "metadata": {
        "id": "fWT0bopBIPfa"
      },
      "source": [
        "<a target=\"_blank\" href=\"https://colab.research.google.com/github/rcpaffenroth/dac_raghu/blob/main/LunarLander.ipynb\">\n",
        "  <img src=\"https://colab.research.google.com/assets/colab-badge.svg\" alt=\"Open In Colab\"/>\n",
        "</a>"
      ]
    },
    {
      "cell_type": "markdown",
      "metadata": {
        "id": "-2iIpCtRVnAT"
      },
      "source": [
        "# Setup and libraries"
      ]
    },
    {
      "cell_type": "code",
      "execution_count": 1,
      "metadata": {
        "id": "i7rbbIzgUsoH"
      },
      "outputs": [],
      "source": [
        "import sys\n",
        "IN_COLAB = 'google.colab' in sys.modules"
      ]
    },
    {
      "cell_type": "code",
      "execution_count": 2,
      "metadata": {
        "colab": {
          "base_uri": "https://localhost:8080/"
        },
        "id": "ruJt504TJgdh",
        "outputId": "ab6a4eb8-dffd-4e92-8b1d-31fd78cacf1f"
      },
      "outputs": [],
      "source": [
        "if IN_COLAB:\n",
        "  ! apt-get install swig\n",
        "  ! pip install stable-baselines3[extra] gymnasium[box2d] huggingface_sb3\n",
        "else:\n",
        "  # Otherwise, install locally and you need the following\n",
        "  # NOTE: Need \"gym\" and \"gymnasium\" installed, since we use \"gymnasium\" for the LunarLander environment\n",
        "  #       and \"gym\" is for huggingface_sb3.\n",
        "  # sudo apt install swig ffmpeg\n",
        "  # pip install stable-baselines3[extra] gymnasium[box2d] huggingface_sb3 imageio[ffmpeg] gym ipywidegets ipykernel pandas pyarrow\n",
        "  pass"
      ]
    },
    {
      "cell_type": "code",
      "execution_count": 3,
      "metadata": {
        "colab": {
          "base_uri": "https://localhost:8080/"
        },
        "id": "ObPgW5p7IJCW",
        "outputId": "f98150cb-fdbe-4107-d71a-cf0647206059"
      },
      "outputs": [],
      "source": [
        "import gymnasium as gym\n",
        "import matplotlib.pylab as plt\n",
        "import numpy as np\n",
        "\n",
        "import imageio\n",
        "from stable_baselines3 import PPO\n",
        "from huggingface_sb3 import load_from_hub\n",
        "\n",
        "import pandas as pd\n",
        "\n",
        "from IPython.display import display\n",
        "from IPython.display import HTML\n",
        "from ipywidgets import interact, widgets\n",
        "from base64 import b64encode\n",
        "%matplotlib inline"
      ]
    },
    {
      "cell_type": "code",
      "execution_count": null,
      "metadata": {
        "id": "f3qMKvCMIJCY"
      },
      "outputs": [],
      "source": [
        "# Make the environment\n",
        "env = gym.make(\"LunarLander-v2\", render_mode='rgb_array')\n",
        "observation = env.reset()\n"
      ]
    },
    {
      "cell_type": "markdown",
      "metadata": {},
      "source": [
        "### Action Space\n",
        "There are four discrete actions available:\n",
        "\n",
        "0: do nothing\n",
        "\n",
        "1: fire left orientation engine\n",
        "\n",
        "2: fire main engine\n",
        "\n",
        "3: fire right orientation engine\n",
        "\n",
        "### Observation Space\n",
        "\n",
        "The state is an 8-dimensional vector: the coordinates of the lander in x & y, its linear velocities in x & y, its angle, its angular velocity, and two booleans that represent whether each leg is in contact with the ground or not."
      ]
    },
    {
      "cell_type": "code",
      "execution_count": null,
      "metadata": {},
      "outputs": [],
      "source": [
        "obs_names = ['x', 'y', 'vx', 'vy', 'theta', 'vtheta', 'leg1', 'leg2']"
      ]
    },
    {
      "cell_type": "markdown",
      "metadata": {
        "id": "U9xZJaSBVYGZ"
      },
      "source": [
        "# Train a model"
      ]
    },
    {
      "cell_type": "code",
      "execution_count": null,
      "metadata": {},
      "outputs": [],
      "source": [
        "models = {}"
      ]
    },
    {
      "cell_type": "code",
      "execution_count": null,
      "metadata": {
        "id": "gYpJvvJ1YwBs"
      },
      "outputs": [],
      "source": [
        "class RandomModel(object):\n",
        "  def __init__(self, env):\n",
        "    self.env = env\n",
        "\n",
        "  def predict(self, obs):\n",
        "    return env.action_space.sample(), None # The second return value is the state value, which the random model does not use\n",
        "\n",
        "random_model =  RandomModel(env)\n",
        "models['random'] = {}\n",
        "models['random']['model'] = random_model\n",
        "models['random']['runs'] = []"
      ]
    },
    {
      "cell_type": "code",
      "execution_count": null,
      "metadata": {
        "colab": {
          "base_uri": "https://localhost:8080/"
        },
        "id": "Y_LcXjSjIJCa",
        "outputId": "d86fc160-2ed6-4efa-befd-a2b2edb82da6"
      },
      "outputs": [],
      "source": [
        "# This is an trained model that has a good architecture and loss function, but is not trained very much.  This takes about 30 sec on \n",
        "# a RTX 4090\n",
        "trained_model = PPO(\"MlpPolicy\", env)\n",
        "trained_model.learn(total_timesteps=20000)\n",
        "\n",
        "models['trained'] = {}\n",
        "models['trained']['model'] = trained_model\n",
        "models['trained']['runs'] = []"
      ]
    },
    {
      "cell_type": "code",
      "execution_count": null,
      "metadata": {
        "colab": {
          "base_uri": "https://localhost:8080/"
        },
        "id": "mK-mnlzyWXmb",
        "outputId": "e6dde32e-374c-47df-e299-60ed1093c16a"
      },
      "outputs": [
        {
          "name": "stderr",
          "output_type": "stream",
          "text": [
            "/home/rcpaffenroth/projects/dac_raghu/venv/lib/python3.8/site-packages/stable_baselines3/common/save_util.py:166: UserWarning: Could not deserialize object learning_rate. Consider using `custom_objects` argument to replace this object.\n",
            "Exception: an integer is required (got type bytes)\n",
            "  warnings.warn(\n",
            "/home/rcpaffenroth/projects/dac_raghu/venv/lib/python3.8/site-packages/stable_baselines3/common/save_util.py:166: UserWarning: Could not deserialize object lr_schedule. Consider using `custom_objects` argument to replace this object.\n",
            "Exception: an integer is required (got type bytes)\n",
            "  warnings.warn(\n",
            "/home/rcpaffenroth/projects/dac_raghu/venv/lib/python3.8/site-packages/stable_baselines3/common/vec_env/patch_gym.py:95: UserWarning: You loaded a model that was trained using OpenAI Gym. We strongly recommend transitioning to Gymnasium by saving that model again.\n",
            "  warnings.warn(\n"
          ]
        }
      ],
      "source": [
        "# This is a model from huggingface.co at https://huggingface.co/sb3/a2c-LunarLander-v2\n",
        "# Mean reward: 181.08 +/- 95.35\n",
        "checkpoint = load_from_hub(\n",
        "    repo_id=\"sb3/a2c-LunarLander-v2\",\n",
        "    filename=\"a2c-LunarLander-v2.zip\",\n",
        ")\n",
        "\n",
        "good_model = PPO.load(checkpoint)\n",
        "\n",
        "models['good'] = {}\n",
        "models['good']['model'] = good_model\n",
        "models['good']['runs'] = []"
      ]
    },
    {
      "cell_type": "code",
      "execution_count": null,
      "metadata": {},
      "outputs": [
        {
          "name": "stderr",
          "output_type": "stream",
          "text": [
            "/home/rcpaffenroth/projects/dac_raghu/venv/lib/python3.8/site-packages/stable_baselines3/common/save_util.py:166: UserWarning: Could not deserialize object clip_range. Consider using `custom_objects` argument to replace this object.\n",
            "Exception: an integer is required (got type bytes)\n",
            "  warnings.warn(\n"
          ]
        }
      ],
      "source": [
        "# This is a model from huggingface.co at https://huggingface.co/araffin/ppo-LunarLander-v2\n",
        "# Mean reward:  283.49 +/- 13.74\n",
        "checkpoint = load_from_hub(\n",
        "    repo_id=\"araffin/ppo-LunarLander-v2\",\n",
        "    filename=\"ppo-LunarLander-v2.zip\",\n",
        ")\n",
        "\n",
        "better_model = PPO.load(checkpoint)\n",
        "models['better'] = {}\n",
        "models['better']['model'] = better_model\n",
        "models['better']['runs'] = []"
      ]
    },
    {
      "cell_type": "markdown",
      "metadata": {
        "id": "Yq_dUEp9YkcA"
      },
      "source": [
        "# Evaluate models"
      ]
    },
    {
      "cell_type": "code",
      "execution_count": null,
      "metadata": {
        "id": "cOBZwfCqIJCc"
      },
      "outputs": [],
      "source": [
        "def evaluate_model(model_name, models=models, env=env):\n",
        "   # Make a movie of a trained agent\n",
        "   obs = env.reset()[0]\n",
        "\n",
        "   # Get the model\n",
        "   model = models[model_name]['model']\n",
        "   images = []\n",
        "   all_obs = []\n",
        "   all_actions = []\n",
        "   all_rewards = []\n",
        "   done = False\n",
        "   while not done:\n",
        "      # This rendering mode puts an image into a numpy array\n",
        "      images += [env.render()]\n",
        "      action, _state = model.predict(obs)\n",
        "      all_obs.append(obs)\n",
        "      all_actions.append(action)\n",
        "      obs, reward, done, trunc, info = env.step(action)\n",
        "      all_rewards.append(reward)\n",
        "   env.close()\n",
        "\n",
        "   df = pd.DataFrame(all_obs, columns=obs_names)\n",
        "   df['action'] = all_actions\n",
        "   df['reward'] = all_rewards\n",
        "   models[model_name]['runs'].append({'data':df,'images':images})\n",
        "\n"
      ]
    },
    {
      "cell_type": "code",
      "execution_count": null,
      "metadata": {},
      "outputs": [],
      "source": [
        "for i in range(3):\n",
        "    evaluate_model('random')\n",
        "    evaluate_model('trained')\n",
        "    evaluate_model('good')\n",
        "    evaluate_model('better')\n",
        "    "
      ]
    },
    {
      "cell_type": "code",
      "execution_count": null,
      "metadata": {
        "colab": {
          "base_uri": "https://localhost:8080/",
          "height": 322
        },
        "id": "rx-9iDZhIJCg",
        "outputId": "dc4b109d-b664-4c03-878d-73df4c5c19f8"
      },
      "outputs": [
        {
          "data": {
            "application/vnd.jupyter.widget-view+json": {
              "model_id": "49c00d26d50443b2b3ddd45978e1e26b",
              "version_major": 2,
              "version_minor": 0
            },
            "text/plain": [
              "interactive(children=(Dropdown(description='model_name', options=('random', 'trained', 'good', 'better'), valu…"
            ]
          },
          "metadata": {},
          "output_type": "display_data"
        }
      ],
      "source": [
        "@interact(model_name=models.keys(), run_idx=widgets.IntSlider(min=0, max=9, step=1, value=0))\n",
        "def show_video(model_name, run_idx):\n",
        "      images = models[model_name]['runs'][run_idx]['images']      \n",
        "      # imageio is a nice library for taking a sequence of images and makeing a movie\n",
        "      name = 'tmp.mp4'\n",
        "      imageio.mimsave(name, images, fps=15)\n",
        "      mp4 = open(name,'rb').read()\n",
        "      data_url = \"data:video/mp4;base64,\" + b64encode(mp4).decode()\n",
        "      # This puts the video in the notebook\n",
        "      display(HTML(\"\"\"\n",
        "      <video width=400 controls>\n",
        "            <source src=\"%s\" type=\"video/mp4\">\n",
        "      </video>\n",
        "      \"\"\" % data_url))\n",
        "      # plot various data for the run \n",
        "      _, ax = plt.subplots(1, 3)\n",
        "      data = models[model_name]['runs'][run_idx]['data']\n",
        "      ax[0].plot(data['reward'])\n",
        "      ax[0].set_title('reward')\n",
        "      ax[1].plot(data['x'], data['y'])\n",
        "      ax[1].set_title('position')\n",
        "      ax[2].plot(data['vx'], data['vy'])\n",
        "      ax[2].set_title('velocity')\n",
        "      plt.tight_layout()\n",
        "      "
      ]
    },
    {
      "cell_type": "markdown",
      "metadata": {},
      "source": [
        "# Rewards"
      ]
    },
    {
      "cell_type": "code",
      "execution_count": null,
      "metadata": {},
      "outputs": [
        {
          "name": "stdout",
          "output_type": "stream",
          "text": [
            "random: -97.89\n",
            "random: -268.28\n",
            "random: -120.32\n",
            "trained: -286.57\n",
            "trained: -4782.33\n",
            "trained: -100.21\n",
            "good: 35.73\n",
            "good: 243.29\n",
            "good: 22.98\n",
            "better: 278.44\n",
            "better: 273.98\n",
            "better: 280.76\n"
          ]
        }
      ],
      "source": [
        "for model_name in models.keys():\n",
        "    for run_idx in range(len(models[model_name]['runs'])):\n",
        "        data = models[model_name]['runs'][run_idx]['data']  \n",
        "        # Print the total reward for each model\n",
        "        print(f\"{model_name}: {np.sum(data['reward']):.2f}\")"
      ]
    },
    {
      "cell_type": "markdown",
      "metadata": {},
      "source": [
        "# Write files"
      ]
    },
    {
      "cell_type": "code",
      "execution_count": null,
      "metadata": {},
      "outputs": [
        {
          "name": "stdout",
          "output_type": "stream",
          "text": [
            "0 days 00:00:00\n"
          ]
        },
        {
          "ename": "ValueError",
          "evalue": "Invalid frequency: 0 days 00:00:00T",
          "output_type": "error",
          "traceback": [
            "\u001b[0;31m---------------------------------------------------------------------------\u001b[0m",
            "\u001b[0;31mKeyError\u001b[0m                                  Traceback (most recent call last)",
            "File \u001b[0;32m~/projects/dac_raghu/venv/lib/python3.8/site-packages/pandas/_libs/tslibs/offsets.pyx:4089\u001b[0m, in \u001b[0;36mpandas._libs.tslibs.offsets._get_offset\u001b[0;34m()\u001b[0m\n",
            "\u001b[0;31mKeyError\u001b[0m: 'DAYS'",
            "\nThe above exception was the direct cause of the following exception:\n",
            "\u001b[0;31mValueError\u001b[0m                                Traceback (most recent call last)",
            "File \u001b[0;32m~/projects/dac_raghu/venv/lib/python3.8/site-packages/pandas/_libs/tslibs/offsets.pyx:4190\u001b[0m, in \u001b[0;36mpandas._libs.tslibs.offsets.to_offset\u001b[0;34m()\u001b[0m\n",
            "File \u001b[0;32m~/projects/dac_raghu/venv/lib/python3.8/site-packages/pandas/_libs/tslibs/offsets.pyx:4095\u001b[0m, in \u001b[0;36mpandas._libs.tslibs.offsets._get_offset\u001b[0;34m()\u001b[0m\n",
            "\u001b[0;31mValueError\u001b[0m: Invalid frequency: DAYS",
            "\nThe above exception was the direct cause of the following exception:\n",
            "\u001b[0;31mValueError\u001b[0m                                Traceback (most recent call last)",
            "Cell \u001b[0;32mIn[73], line 19\u001b[0m\n\u001b[1;32m     17\u001b[0m delta_t \u001b[39m=\u001b[39m (df\u001b[39m.\u001b[39mindex[\u001b[39m-\u001b[39m\u001b[39m1\u001b[39m] \u001b[39m-\u001b[39m df\u001b[39m.\u001b[39mindex[\u001b[39m0\u001b[39m]) \u001b[39m/\u001b[39m \u001b[39m100.0\u001b[39m\n\u001b[1;32m     18\u001b[0m \u001b[39mprint\u001b[39m(delta_t)\n\u001b[0;32m---> 19\u001b[0m df_resampled \u001b[39m=\u001b[39m df\u001b[39m.\u001b[39;49mresample(\u001b[39mf\u001b[39;49m\u001b[39m'\u001b[39;49m\u001b[39m{\u001b[39;49;00mdelta_t\u001b[39m}\u001b[39;49;00m\u001b[39mT\u001b[39;49m\u001b[39m'\u001b[39;49m)\u001b[39m.\u001b[39minterpolate()\n\u001b[1;32m     21\u001b[0m \u001b[39m# data = pd.melt(data, value_vars=['x', 'y'], var_name='timestep', value_name='position')\u001b[39;00m\n",
            "File \u001b[0;32m~/projects/dac_raghu/venv/lib/python3.8/site-packages/pandas/core/frame.py:10994\u001b[0m, in \u001b[0;36mDataFrame.resample\u001b[0;34m(self, rule, axis, closed, label, convention, kind, on, level, origin, offset, group_keys)\u001b[0m\n\u001b[1;32m  10979\u001b[0m \u001b[39m@doc\u001b[39m(NDFrame\u001b[39m.\u001b[39mresample, \u001b[39m*\u001b[39m\u001b[39m*\u001b[39m_shared_doc_kwargs)\n\u001b[1;32m  10980\u001b[0m \u001b[39mdef\u001b[39;00m \u001b[39mresample\u001b[39m(\n\u001b[1;32m  10981\u001b[0m     \u001b[39mself\u001b[39m,\n\u001b[0;32m   (...)\u001b[0m\n\u001b[1;32m  10992\u001b[0m     group_keys: \u001b[39mbool\u001b[39m \u001b[39m=\u001b[39m \u001b[39mFalse\u001b[39;00m,\n\u001b[1;32m  10993\u001b[0m ) \u001b[39m-\u001b[39m\u001b[39m>\u001b[39m Resampler:\n\u001b[0;32m> 10994\u001b[0m     \u001b[39mreturn\u001b[39;00m \u001b[39msuper\u001b[39;49m()\u001b[39m.\u001b[39;49mresample(\n\u001b[1;32m  10995\u001b[0m         rule\u001b[39m=\u001b[39;49mrule,\n\u001b[1;32m  10996\u001b[0m         axis\u001b[39m=\u001b[39;49maxis,\n\u001b[1;32m  10997\u001b[0m         closed\u001b[39m=\u001b[39;49mclosed,\n\u001b[1;32m  10998\u001b[0m         label\u001b[39m=\u001b[39;49mlabel,\n\u001b[1;32m  10999\u001b[0m         convention\u001b[39m=\u001b[39;49mconvention,\n\u001b[1;32m  11000\u001b[0m         kind\u001b[39m=\u001b[39;49mkind,\n\u001b[1;32m  11001\u001b[0m         on\u001b[39m=\u001b[39;49mon,\n\u001b[1;32m  11002\u001b[0m         level\u001b[39m=\u001b[39;49mlevel,\n\u001b[1;32m  11003\u001b[0m         origin\u001b[39m=\u001b[39;49morigin,\n\u001b[1;32m  11004\u001b[0m         offset\u001b[39m=\u001b[39;49moffset,\n\u001b[1;32m  11005\u001b[0m         group_keys\u001b[39m=\u001b[39;49mgroup_keys,\n\u001b[1;32m  11006\u001b[0m     )\n",
            "File \u001b[0;32m~/projects/dac_raghu/venv/lib/python3.8/site-packages/pandas/core/generic.py:8888\u001b[0m, in \u001b[0;36mNDFrame.resample\u001b[0;34m(self, rule, axis, closed, label, convention, kind, on, level, origin, offset, group_keys)\u001b[0m\n\u001b[1;32m   8885\u001b[0m \u001b[39mfrom\u001b[39;00m \u001b[39mpandas\u001b[39;00m\u001b[39m.\u001b[39;00m\u001b[39mcore\u001b[39;00m\u001b[39m.\u001b[39;00m\u001b[39mresample\u001b[39;00m \u001b[39mimport\u001b[39;00m get_resampler\n\u001b[1;32m   8887\u001b[0m axis \u001b[39m=\u001b[39m \u001b[39mself\u001b[39m\u001b[39m.\u001b[39m_get_axis_number(axis)\n\u001b[0;32m-> 8888\u001b[0m \u001b[39mreturn\u001b[39;00m get_resampler(\n\u001b[1;32m   8889\u001b[0m     cast(\u001b[39m\"\u001b[39;49m\u001b[39mSeries | DataFrame\u001b[39;49m\u001b[39m\"\u001b[39;49m, \u001b[39mself\u001b[39;49m),\n\u001b[1;32m   8890\u001b[0m     freq\u001b[39m=\u001b[39;49mrule,\n\u001b[1;32m   8891\u001b[0m     label\u001b[39m=\u001b[39;49mlabel,\n\u001b[1;32m   8892\u001b[0m     closed\u001b[39m=\u001b[39;49mclosed,\n\u001b[1;32m   8893\u001b[0m     axis\u001b[39m=\u001b[39;49maxis,\n\u001b[1;32m   8894\u001b[0m     kind\u001b[39m=\u001b[39;49mkind,\n\u001b[1;32m   8895\u001b[0m     convention\u001b[39m=\u001b[39;49mconvention,\n\u001b[1;32m   8896\u001b[0m     key\u001b[39m=\u001b[39;49mon,\n\u001b[1;32m   8897\u001b[0m     level\u001b[39m=\u001b[39;49mlevel,\n\u001b[1;32m   8898\u001b[0m     origin\u001b[39m=\u001b[39;49morigin,\n\u001b[1;32m   8899\u001b[0m     offset\u001b[39m=\u001b[39;49moffset,\n\u001b[1;32m   8900\u001b[0m     group_keys\u001b[39m=\u001b[39;49mgroup_keys,\n\u001b[1;32m   8901\u001b[0m )\n",
            "File \u001b[0;32m~/projects/dac_raghu/venv/lib/python3.8/site-packages/pandas/core/resample.py:1522\u001b[0m, in \u001b[0;36mget_resampler\u001b[0;34m(obj, kind, **kwds)\u001b[0m\n\u001b[1;32m   1518\u001b[0m \u001b[39mdef\u001b[39;00m \u001b[39mget_resampler\u001b[39m(obj: Series \u001b[39m|\u001b[39m DataFrame, kind\u001b[39m=\u001b[39m\u001b[39mNone\u001b[39;00m, \u001b[39m*\u001b[39m\u001b[39m*\u001b[39mkwds) \u001b[39m-\u001b[39m\u001b[39m>\u001b[39m Resampler:\n\u001b[1;32m   1519\u001b[0m \u001b[39m    \u001b[39m\u001b[39m\"\"\"\u001b[39;00m\n\u001b[1;32m   1520\u001b[0m \u001b[39m    Create a TimeGrouper and return our resampler.\u001b[39;00m\n\u001b[1;32m   1521\u001b[0m \u001b[39m    \"\"\"\u001b[39;00m\n\u001b[0;32m-> 1522\u001b[0m     tg \u001b[39m=\u001b[39m TimeGrouper(\u001b[39m*\u001b[39;49m\u001b[39m*\u001b[39;49mkwds)\n\u001b[1;32m   1523\u001b[0m     \u001b[39mreturn\u001b[39;00m tg\u001b[39m.\u001b[39m_get_resampler(obj, kind\u001b[39m=\u001b[39mkind)\n",
            "File \u001b[0;32m~/projects/dac_raghu/venv/lib/python3.8/site-packages/pandas/core/resample.py:1599\u001b[0m, in \u001b[0;36mTimeGrouper.__init__\u001b[0;34m(self, freq, closed, label, how, axis, fill_method, limit, kind, convention, origin, offset, group_keys, **kwargs)\u001b[0m\n\u001b[1;32m   1596\u001b[0m \u001b[39mif\u001b[39;00m convention \u001b[39mnot\u001b[39;00m \u001b[39min\u001b[39;00m {\u001b[39mNone\u001b[39;00m, \u001b[39m\"\u001b[39m\u001b[39mstart\u001b[39m\u001b[39m\"\u001b[39m, \u001b[39m\"\u001b[39m\u001b[39mend\u001b[39m\u001b[39m\"\u001b[39m, \u001b[39m\"\u001b[39m\u001b[39me\u001b[39m\u001b[39m\"\u001b[39m, \u001b[39m\"\u001b[39m\u001b[39ms\u001b[39m\u001b[39m\"\u001b[39m}:\n\u001b[1;32m   1597\u001b[0m     \u001b[39mraise\u001b[39;00m \u001b[39mValueError\u001b[39;00m(\u001b[39mf\u001b[39m\u001b[39m\"\u001b[39m\u001b[39mUnsupported value \u001b[39m\u001b[39m{\u001b[39;00mconvention\u001b[39m}\u001b[39;00m\u001b[39m for `convention`\u001b[39m\u001b[39m\"\u001b[39m)\n\u001b[0;32m-> 1599\u001b[0m freq \u001b[39m=\u001b[39m to_offset(freq)\n\u001b[1;32m   1601\u001b[0m end_types \u001b[39m=\u001b[39m {\u001b[39m\"\u001b[39m\u001b[39mM\u001b[39m\u001b[39m\"\u001b[39m, \u001b[39m\"\u001b[39m\u001b[39mA\u001b[39m\u001b[39m\"\u001b[39m, \u001b[39m\"\u001b[39m\u001b[39mQ\u001b[39m\u001b[39m\"\u001b[39m, \u001b[39m\"\u001b[39m\u001b[39mBM\u001b[39m\u001b[39m\"\u001b[39m, \u001b[39m\"\u001b[39m\u001b[39mBA\u001b[39m\u001b[39m\"\u001b[39m, \u001b[39m\"\u001b[39m\u001b[39mBQ\u001b[39m\u001b[39m\"\u001b[39m, \u001b[39m\"\u001b[39m\u001b[39mW\u001b[39m\u001b[39m\"\u001b[39m}\n\u001b[1;32m   1602\u001b[0m rule \u001b[39m=\u001b[39m freq\u001b[39m.\u001b[39mrule_code\n",
            "File \u001b[0;32m~/projects/dac_raghu/venv/lib/python3.8/site-packages/pandas/_libs/tslibs/offsets.pyx:4102\u001b[0m, in \u001b[0;36mpandas._libs.tslibs.offsets.to_offset\u001b[0;34m()\u001b[0m\n",
            "File \u001b[0;32m~/projects/dac_raghu/venv/lib/python3.8/site-packages/pandas/_libs/tslibs/offsets.pyx:4198\u001b[0m, in \u001b[0;36mpandas._libs.tslibs.offsets.to_offset\u001b[0;34m()\u001b[0m\n",
            "\u001b[0;31mValueError\u001b[0m: Invalid frequency: 0 days 00:00:00T"
          ]
        }
      ],
      "source": [
        "# Create a single dataframe with all the data\n",
        "# each row is a single run of a single model\n",
        "# each column is a single timestep\n",
        "# each cell is the reward at that timestep\n",
        "\n",
        "for model_name in models.keys():\n",
        "    for run_idx in range(len(models[model_name]['runs'])):\n",
        "        df = models[model_name]['runs'][run_idx]['data'].copy()  \n",
        "\n",
        "        # index plays the role of timestep\n",
        "        df['timestamp'] = df.index\n",
        "        df['timestamp'] = pd.to_datetime(df['timestamp'], unit='s')\n",
        "        df.set_index('timestamp', inplace=True)\n",
        "\n",
        "        # We now compute the delta t that gives us 100 total sample points for each run\n",
        "        # We do this by taking the total time of the run and dividing by 100\n",
        "        delta_t = (df.index[-1] - df.index[0]) / 100.0\n",
        "        print(delta_t)\n",
        "        df_resampled = df.resample(f'{delta_t}T').interpolate()\n",
        "\n",
        "        # data = pd.melt(data, value_vars=['x', 'y'], var_name='timestep', value_name='position')"
      ]
    },
    {
      "cell_type": "code",
      "execution_count": null,
      "metadata": {},
      "outputs": [
        {
          "data": {
            "text/html": [
              "<div>\n",
              "<style scoped>\n",
              "    .dataframe tbody tr th:only-of-type {\n",
              "        vertical-align: middle;\n",
              "    }\n",
              "\n",
              "    .dataframe tbody tr th {\n",
              "        vertical-align: top;\n",
              "    }\n",
              "\n",
              "    .dataframe thead th {\n",
              "        text-align: right;\n",
              "    }\n",
              "</style>\n",
              "<table border=\"1\" class=\"dataframe\">\n",
              "  <thead>\n",
              "    <tr style=\"text-align: right;\">\n",
              "      <th></th>\n",
              "      <th>x</th>\n",
              "      <th>y</th>\n",
              "      <th>vx</th>\n",
              "      <th>vy</th>\n",
              "      <th>theta</th>\n",
              "      <th>vtheta</th>\n",
              "      <th>leg1</th>\n",
              "      <th>leg2</th>\n",
              "      <th>action</th>\n",
              "      <th>reward</th>\n",
              "      <th>timestep</th>\n",
              "      <th>timestam</th>\n",
              "    </tr>\n",
              "    <tr>\n",
              "      <th>timestamp</th>\n",
              "      <th></th>\n",
              "      <th></th>\n",
              "      <th></th>\n",
              "      <th></th>\n",
              "      <th></th>\n",
              "      <th></th>\n",
              "      <th></th>\n",
              "      <th></th>\n",
              "      <th></th>\n",
              "      <th></th>\n",
              "      <th></th>\n",
              "      <th></th>\n",
              "    </tr>\n",
              "  </thead>\n",
              "  <tbody>\n",
              "    <tr>\n",
              "      <th>1970-01-01 00:00:00.000000000</th>\n",
              "      <td>0.001899</td>\n",
              "      <td>1.404410</td>\n",
              "      <td>0.192341</td>\n",
              "      <td>-0.289357</td>\n",
              "      <td>-0.002194</td>\n",
              "      <td>-0.043568</td>\n",
              "      <td>0.0</td>\n",
              "      <td>0.0</td>\n",
              "      <td>3</td>\n",
              "      <td>-2.568321</td>\n",
              "      <td>0</td>\n",
              "      <td>0</td>\n",
              "    </tr>\n",
              "    <tr>\n",
              "      <th>1970-01-01 00:00:00.000000001</th>\n",
              "      <td>0.003894</td>\n",
              "      <td>1.397322</td>\n",
              "      <td>0.204094</td>\n",
              "      <td>-0.315020</td>\n",
              "      <td>-0.006756</td>\n",
              "      <td>-0.091253</td>\n",
              "      <td>0.0</td>\n",
              "      <td>0.0</td>\n",
              "      <td>3</td>\n",
              "      <td>-2.625251</td>\n",
              "      <td>1</td>\n",
              "      <td>1</td>\n",
              "    </tr>\n",
              "    <tr>\n",
              "      <th>1970-01-01 00:00:00.000000002</th>\n",
              "      <td>0.005961</td>\n",
              "      <td>1.389639</td>\n",
              "      <td>0.213215</td>\n",
              "      <td>-0.341504</td>\n",
              "      <td>-0.013141</td>\n",
              "      <td>-0.127714</td>\n",
              "      <td>0.0</td>\n",
              "      <td>0.0</td>\n",
              "      <td>2</td>\n",
              "      <td>-0.816648</td>\n",
              "      <td>2</td>\n",
              "      <td>2</td>\n",
              "    </tr>\n",
              "    <tr>\n",
              "      <th>1970-01-01 00:00:00.000000003</th>\n",
              "      <td>0.008132</td>\n",
              "      <td>1.381912</td>\n",
              "      <td>0.223055</td>\n",
              "      <td>-0.343501</td>\n",
              "      <td>-0.019054</td>\n",
              "      <td>-0.118278</td>\n",
              "      <td>0.0</td>\n",
              "      <td>0.0</td>\n",
              "      <td>0</td>\n",
              "      <td>-2.022618</td>\n",
              "      <td>3</td>\n",
              "      <td>3</td>\n",
              "    </tr>\n",
              "    <tr>\n",
              "      <th>1970-01-01 00:00:00.000000004</th>\n",
              "      <td>0.010303</td>\n",
              "      <td>1.373585</td>\n",
              "      <td>0.223072</td>\n",
              "      <td>-0.370176</td>\n",
              "      <td>-0.024968</td>\n",
              "      <td>-0.118274</td>\n",
              "      <td>0.0</td>\n",
              "      <td>0.0</td>\n",
              "      <td>0</td>\n",
              "      <td>-2.006289</td>\n",
              "      <td>4</td>\n",
              "      <td>4</td>\n",
              "    </tr>\n",
              "    <tr>\n",
              "      <th>...</th>\n",
              "      <td>...</td>\n",
              "      <td>...</td>\n",
              "      <td>...</td>\n",
              "      <td>...</td>\n",
              "      <td>...</td>\n",
              "      <td>...</td>\n",
              "      <td>...</td>\n",
              "      <td>...</td>\n",
              "      <td>...</td>\n",
              "      <td>...</td>\n",
              "      <td>...</td>\n",
              "      <td>...</td>\n",
              "    </tr>\n",
              "    <tr>\n",
              "      <th>1970-01-01 00:00:00.000000064</th>\n",
              "      <td>0.128445</td>\n",
              "      <td>0.126061</td>\n",
              "      <td>0.155184</td>\n",
              "      <td>-1.472933</td>\n",
              "      <td>0.045131</td>\n",
              "      <td>0.121635</td>\n",
              "      <td>0.0</td>\n",
              "      <td>0.0</td>\n",
              "      <td>0</td>\n",
              "      <td>-1.213249</td>\n",
              "      <td>64</td>\n",
              "      <td>64</td>\n",
              "    </tr>\n",
              "    <tr>\n",
              "      <th>1970-01-01 00:00:00.000000065</th>\n",
              "      <td>0.130058</td>\n",
              "      <td>0.092325</td>\n",
              "      <td>0.155184</td>\n",
              "      <td>-1.499603</td>\n",
              "      <td>0.051213</td>\n",
              "      <td>0.121635</td>\n",
              "      <td>0.0</td>\n",
              "      <td>0.0</td>\n",
              "      <td>0</td>\n",
              "      <td>-1.699139</td>\n",
              "      <td>65</td>\n",
              "      <td>65</td>\n",
              "    </tr>\n",
              "    <tr>\n",
              "      <th>1970-01-01 00:00:00.000000066</th>\n",
              "      <td>0.131672</td>\n",
              "      <td>0.057989</td>\n",
              "      <td>0.155184</td>\n",
              "      <td>-1.526273</td>\n",
              "      <td>0.057295</td>\n",
              "      <td>0.121634</td>\n",
              "      <td>0.0</td>\n",
              "      <td>0.0</td>\n",
              "      <td>3</td>\n",
              "      <td>-2.247434</td>\n",
              "      <td>66</td>\n",
              "      <td>66</td>\n",
              "    </tr>\n",
              "    <tr>\n",
              "      <th>1970-01-01 00:00:00.000000067</th>\n",
              "      <td>0.133381</td>\n",
              "      <td>0.023067</td>\n",
              "      <td>0.167276</td>\n",
              "      <td>-1.552195</td>\n",
              "      <td>0.060943</td>\n",
              "      <td>0.072957</td>\n",
              "      <td>0.0</td>\n",
              "      <td>0.0</td>\n",
              "      <td>0</td>\n",
              "      <td>6.953294</td>\n",
              "      <td>67</td>\n",
              "      <td>67</td>\n",
              "    </tr>\n",
              "    <tr>\n",
              "      <th>1970-01-01 00:00:00.000000068</th>\n",
              "      <td>0.135091</td>\n",
              "      <td>-0.012453</td>\n",
              "      <td>0.167276</td>\n",
              "      <td>-1.578862</td>\n",
              "      <td>0.064591</td>\n",
              "      <td>0.072957</td>\n",
              "      <td>0.0</td>\n",
              "      <td>1.0</td>\n",
              "      <td>3</td>\n",
              "      <td>-100.000000</td>\n",
              "      <td>68</td>\n",
              "      <td>68</td>\n",
              "    </tr>\n",
              "  </tbody>\n",
              "</table>\n",
              "<p>69 rows × 12 columns</p>\n",
              "</div>"
            ],
            "text/plain": [
              "                                      x         y        vx        vy  \\\n",
              "timestamp                                                               \n",
              "1970-01-01 00:00:00.000000000  0.001899  1.404410  0.192341 -0.289357   \n",
              "1970-01-01 00:00:00.000000001  0.003894  1.397322  0.204094 -0.315020   \n",
              "1970-01-01 00:00:00.000000002  0.005961  1.389639  0.213215 -0.341504   \n",
              "1970-01-01 00:00:00.000000003  0.008132  1.381912  0.223055 -0.343501   \n",
              "1970-01-01 00:00:00.000000004  0.010303  1.373585  0.223072 -0.370176   \n",
              "...                                 ...       ...       ...       ...   \n",
              "1970-01-01 00:00:00.000000064  0.128445  0.126061  0.155184 -1.472933   \n",
              "1970-01-01 00:00:00.000000065  0.130058  0.092325  0.155184 -1.499603   \n",
              "1970-01-01 00:00:00.000000066  0.131672  0.057989  0.155184 -1.526273   \n",
              "1970-01-01 00:00:00.000000067  0.133381  0.023067  0.167276 -1.552195   \n",
              "1970-01-01 00:00:00.000000068  0.135091 -0.012453  0.167276 -1.578862   \n",
              "\n",
              "                                  theta    vtheta  leg1  leg2  action  \\\n",
              "timestamp                                                               \n",
              "1970-01-01 00:00:00.000000000 -0.002194 -0.043568   0.0   0.0       3   \n",
              "1970-01-01 00:00:00.000000001 -0.006756 -0.091253   0.0   0.0       3   \n",
              "1970-01-01 00:00:00.000000002 -0.013141 -0.127714   0.0   0.0       2   \n",
              "1970-01-01 00:00:00.000000003 -0.019054 -0.118278   0.0   0.0       0   \n",
              "1970-01-01 00:00:00.000000004 -0.024968 -0.118274   0.0   0.0       0   \n",
              "...                                 ...       ...   ...   ...     ...   \n",
              "1970-01-01 00:00:00.000000064  0.045131  0.121635   0.0   0.0       0   \n",
              "1970-01-01 00:00:00.000000065  0.051213  0.121635   0.0   0.0       0   \n",
              "1970-01-01 00:00:00.000000066  0.057295  0.121634   0.0   0.0       3   \n",
              "1970-01-01 00:00:00.000000067  0.060943  0.072957   0.0   0.0       0   \n",
              "1970-01-01 00:00:00.000000068  0.064591  0.072957   0.0   1.0       3   \n",
              "\n",
              "                                   reward  timestep  timestam  \n",
              "timestamp                                                      \n",
              "1970-01-01 00:00:00.000000000   -2.568321         0         0  \n",
              "1970-01-01 00:00:00.000000001   -2.625251         1         1  \n",
              "1970-01-01 00:00:00.000000002   -0.816648         2         2  \n",
              "1970-01-01 00:00:00.000000003   -2.022618         3         3  \n",
              "1970-01-01 00:00:00.000000004   -2.006289         4         4  \n",
              "...                                   ...       ...       ...  \n",
              "1970-01-01 00:00:00.000000064   -1.213249        64        64  \n",
              "1970-01-01 00:00:00.000000065   -1.699139        65        65  \n",
              "1970-01-01 00:00:00.000000066   -2.247434        66        66  \n",
              "1970-01-01 00:00:00.000000067    6.953294        67        67  \n",
              "1970-01-01 00:00:00.000000068 -100.000000        68        68  \n",
              "\n",
              "[69 rows x 12 columns]"
            ]
          },
          "execution_count": 74,
          "metadata": {},
          "output_type": "execute_result"
        }
      ],
      "source": [
        "df"
      ]
    },
    {
      "cell_type": "code",
      "execution_count": null,
      "metadata": {},
      "outputs": [],
      "source": []
    }
  ],
  "metadata": {
    "colab": {
      "provenance": []
    },
    "interpreter": {
      "hash": "91c69d281b806a3add6b161e23d9089dcb392788fdbe6cdd17c006940cab5b65"
    },
    "jupytext": {
      "cell_metadata_filter": "-all",
      "formats": "ipynb,py:percent",
      "main_language": "python"
    },
    "kernelspec": {
      "display_name": "Python 3 (ipykernel)",
      "language": "python",
      "name": "python3"
    },
    "language_info": {
      "codemirror_mode": {
        "name": "ipython",
        "version": 3
      },
      "file_extension": ".py",
      "mimetype": "text/x-python",
      "name": "python",
      "nbconvert_exporter": "python",
      "pygments_lexer": "ipython3",
      "version": "3.8.10"
    },
    "toc-autonumbering": false,
    "toc-showcode": false,
    "toc-showmarkdowntxt": false,
    "toc-showtags": false
  },
  "nbformat": 4,
  "nbformat_minor": 0
}
