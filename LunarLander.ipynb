{
  "cells": [
    {
      "cell_type": "markdown",
      "metadata": {
        "id": "fWT0bopBIPfa"
      },
      "source": [
        "<a target=\"_blank\" href=\"https://colab.research.google.com/github/rcpaffenroth/dac_raghu/blob/main/LunarLander.ipynb\">\n",
        "  <img src=\"https://colab.research.google.com/assets/colab-badge.svg\" alt=\"Open In Colab\"/>\n",
        "</a>"
      ]
    },
    {
      "cell_type": "markdown",
      "metadata": {
        "id": "-2iIpCtRVnAT"
      },
      "source": [
        "# Setup and libraries"
      ]
    },
    {
      "cell_type": "code",
      "execution_count": 1,
      "metadata": {
        "id": "i7rbbIzgUsoH"
      },
      "outputs": [],
      "source": [
        "import sys\n",
        "IN_COLAB = 'google.colab' in sys.modules"
      ]
    },
    {
      "cell_type": "code",
      "execution_count": 2,
      "metadata": {
        "colab": {
          "base_uri": "https://localhost:8080/"
        },
        "id": "ruJt504TJgdh",
        "outputId": "ab6a4eb8-dffd-4e92-8b1d-31fd78cacf1f"
      },
      "outputs": [],
      "source": [
        "if IN_COLAB:\n",
        "  ! apt-get install swig\n",
        "  ! pip install stable-baselines3[extra] gymnasium[box2d] huggingface_sb3\n",
        "else:\n",
        "  # Otherwise, install locally and you need the following\n",
        "  # NOTE: Need \"gym\" and \"gymnasium\" installed, since we use \"gymnasium\" for the LunarLander environment\n",
        "  #       and \"gym\" is for huggingface_sb3.\n",
        "  # sudo apt install swig ffmpeg\n",
        "  # pip install stable-baselines3[extra] gymnasium[box2d] huggingface_sb3 imageio[ffmpeg] gym ipywidegets ipykernel pandas pyarrow\n",
        "  pass"
      ]
    },
    {
      "cell_type": "code",
      "execution_count": 3,
      "metadata": {
        "colab": {
          "base_uri": "https://localhost:8080/"
        },
        "id": "ObPgW5p7IJCW",
        "outputId": "f98150cb-fdbe-4107-d71a-cf0647206059"
      },
      "outputs": [],
      "source": [
        "import gymnasium as gym\n",
        "import matplotlib.pylab as plt\n",
        "import numpy as np\n",
        "\n",
        "import imageio\n",
        "from stable_baselines3 import PPO\n",
        "from huggingface_sb3 import load_from_hub\n",
        "\n",
        "import pandas as pd\n",
        "\n",
        "from IPython.display import display\n",
        "from IPython.display import HTML\n",
        "from ipywidgets import interact, widgets\n",
        "from base64 import b64encode\n",
        "%matplotlib inline"
      ]
    },
    {
      "cell_type": "code",
      "execution_count": 4,
      "metadata": {
        "id": "f3qMKvCMIJCY"
      },
      "outputs": [],
      "source": [
        "# Make the environment\n",
        "env = gym.make(\"LunarLander-v2\", render_mode='rgb_array')\n",
        "observation = env.reset()\n"
      ]
    },
    {
      "cell_type": "markdown",
      "metadata": {},
      "source": [
        "### Action Space\n",
        "There are four discrete actions available:\n",
        "\n",
        "0: do nothing\n",
        "\n",
        "1: fire left orientation engine\n",
        "\n",
        "2: fire main engine\n",
        "\n",
        "3: fire right orientation engine\n",
        "\n",
        "### Observation Space\n",
        "\n",
        "The state is an 8-dimensional vector: the coordinates of the lander in x & y, its linear velocities in x & y, its angle, its angular velocity, and two booleans that represent whether each leg is in contact with the ground or not."
      ]
    },
    {
      "cell_type": "code",
      "execution_count": 5,
      "metadata": {},
      "outputs": [],
      "source": [
        "obs_names = ['x', 'y', 'vx', 'vy', 'theta', 'vtheta', 'leg1', 'leg2']"
      ]
    },
    {
      "cell_type": "markdown",
      "metadata": {
        "id": "U9xZJaSBVYGZ"
      },
      "source": [
        "# Train a model"
      ]
    },
    {
      "cell_type": "code",
      "execution_count": 6,
      "metadata": {},
      "outputs": [],
      "source": [
        "models = {}"
      ]
    },
    {
      "cell_type": "code",
      "execution_count": 7,
      "metadata": {
        "id": "gYpJvvJ1YwBs"
      },
      "outputs": [],
      "source": [
        "class RandomModel(object):\n",
        "  def __init__(self, env):\n",
        "    self.env = env\n",
        "\n",
        "  def predict(self, obs):\n",
        "    return env.action_space.sample(), None # The second return value is the state value, which the random model does not use\n",
        "\n",
        "random_model =  RandomModel(env)\n",
        "models['random'] = {}\n",
        "models['random']['model'] = random_model\n",
        "models['random']['runs'] = []"
      ]
    },
    {
      "cell_type": "code",
      "execution_count": 8,
      "metadata": {
        "colab": {
          "base_uri": "https://localhost:8080/"
        },
        "id": "Y_LcXjSjIJCa",
        "outputId": "d86fc160-2ed6-4efa-befd-a2b2edb82da6"
      },
      "outputs": [],
      "source": [
        "# This is an trained model that has a good architecture and loss function, but is not trained very much.  This takes about 30 sec on \n",
        "# a RTX 4090\n",
        "trained_model = PPO(\"MlpPolicy\", env)\n",
        "trained_model.learn(total_timesteps=20000)\n",
        "\n",
        "models['trained'] = {}\n",
        "models['trained']['model'] = trained_model\n",
        "models['trained']['runs'] = []"
      ]
    },
    {
      "cell_type": "code",
      "execution_count": 9,
      "metadata": {
        "colab": {
          "base_uri": "https://localhost:8080/"
        },
        "id": "mK-mnlzyWXmb",
        "outputId": "e6dde32e-374c-47df-e299-60ed1093c16a"
      },
      "outputs": [
        {
          "name": "stderr",
          "output_type": "stream",
          "text": [
            "/home/rcpaffenroth/projects/dac_raghu/venv/lib/python3.8/site-packages/stable_baselines3/common/save_util.py:166: UserWarning: Could not deserialize object learning_rate. Consider using `custom_objects` argument to replace this object.\n",
            "Exception: an integer is required (got type bytes)\n",
            "  warnings.warn(\n",
            "/home/rcpaffenroth/projects/dac_raghu/venv/lib/python3.8/site-packages/stable_baselines3/common/save_util.py:166: UserWarning: Could not deserialize object lr_schedule. Consider using `custom_objects` argument to replace this object.\n",
            "Exception: an integer is required (got type bytes)\n",
            "  warnings.warn(\n",
            "/home/rcpaffenroth/projects/dac_raghu/venv/lib/python3.8/site-packages/stable_baselines3/common/vec_env/patch_gym.py:95: UserWarning: You loaded a model that was trained using OpenAI Gym. We strongly recommend transitioning to Gymnasium by saving that model again.\n",
            "  warnings.warn(\n"
          ]
        }
      ],
      "source": [
        "# This is a model from huggingface.co at https://huggingface.co/sb3/a2c-LunarLander-v2\n",
        "# Mean reward: 181.08 +/- 95.35\n",
        "checkpoint = load_from_hub(\n",
        "    repo_id=\"sb3/a2c-LunarLander-v2\",\n",
        "    filename=\"a2c-LunarLander-v2.zip\",\n",
        ")\n",
        "\n",
        "good_model = PPO.load(checkpoint)\n",
        "\n",
        "models['good'] = {}\n",
        "models['good']['model'] = good_model\n",
        "models['good']['runs'] = []"
      ]
    },
    {
      "cell_type": "code",
      "execution_count": 10,
      "metadata": {},
      "outputs": [
        {
          "name": "stderr",
          "output_type": "stream",
          "text": [
            "/home/rcpaffenroth/projects/dac_raghu/venv/lib/python3.8/site-packages/stable_baselines3/common/save_util.py:166: UserWarning: Could not deserialize object clip_range. Consider using `custom_objects` argument to replace this object.\n",
            "Exception: an integer is required (got type bytes)\n",
            "  warnings.warn(\n"
          ]
        }
      ],
      "source": [
        "# This is a model from huggingface.co at https://huggingface.co/araffin/ppo-LunarLander-v2\n",
        "# Mean reward:  283.49 +/- 13.74\n",
        "checkpoint = load_from_hub(\n",
        "    repo_id=\"araffin/ppo-LunarLander-v2\",\n",
        "    filename=\"ppo-LunarLander-v2.zip\",\n",
        ")\n",
        "\n",
        "better_model = PPO.load(checkpoint)\n",
        "models['better'] = {}\n",
        "models['better']['model'] = better_model\n",
        "models['better']['runs'] = []"
      ]
    },
    {
      "cell_type": "markdown",
      "metadata": {
        "id": "Yq_dUEp9YkcA"
      },
      "source": [
        "# Evaluate models"
      ]
    },
    {
      "cell_type": "code",
      "execution_count": 11,
      "metadata": {
        "id": "cOBZwfCqIJCc"
      },
      "outputs": [],
      "source": [
        "def evaluate_model(model_name, models=models, env=env):\n",
        "   # Make a movie of a trained agent\n",
        "   obs = env.reset()[0]\n",
        "\n",
        "   # Get the model\n",
        "   model = models[model_name]['model']\n",
        "   images = []\n",
        "   all_obs = []\n",
        "   all_actions = []\n",
        "   all_rewards = []\n",
        "   done = False\n",
        "   while not done:\n",
        "      # This rendering mode puts an image into a numpy array\n",
        "      images += [env.render()]\n",
        "      action, _state = model.predict(obs)\n",
        "      all_obs.append(obs)\n",
        "      all_actions.append(action)\n",
        "      obs, reward, done, trunc, info = env.step(action)\n",
        "      all_rewards.append(reward)\n",
        "   env.close()\n",
        "\n",
        "   df = pd.DataFrame(all_obs, columns=obs_names)\n",
        "   df['action'] = all_actions\n",
        "   df['reward'] = all_rewards\n",
        "   models[model_name]['runs'].append({'data':df,'images':images})\n",
        "\n"
      ]
    },
    {
      "cell_type": "code",
      "execution_count": 12,
      "metadata": {},
      "outputs": [],
      "source": [
        "for i in range(3):\n",
        "    evaluate_model('random')\n",
        "    evaluate_model('trained')\n",
        "    evaluate_model('good')\n",
        "    evaluate_model('better')\n",
        "    "
      ]
    },
    {
      "cell_type": "code",
      "execution_count": 13,
      "metadata": {
        "colab": {
          "base_uri": "https://localhost:8080/",
          "height": 322
        },
        "id": "rx-9iDZhIJCg",
        "outputId": "dc4b109d-b664-4c03-878d-73df4c5c19f8"
      },
      "outputs": [
        {
          "data": {
            "application/vnd.jupyter.widget-view+json": {
              "model_id": "bf174ffa830d4d42b1f2704cae958b3d",
              "version_major": 2,
              "version_minor": 0
            },
            "text/plain": [
              "interactive(children=(Dropdown(description='model_name', options=('random', 'trained', 'good', 'better'), valu…"
            ]
          },
          "metadata": {},
          "output_type": "display_data"
        }
      ],
      "source": [
        "@interact(model_name=models.keys(), run_idx=widgets.IntSlider(min=0, max=9, step=1, value=0))\n",
        "def show_video(model_name, run_idx):\n",
        "      images = models[model_name]['runs'][run_idx]['images']      \n",
        "      # imageio is a nice library for taking a sequence of images and makeing a movie\n",
        "      name = 'tmp.mp4'\n",
        "      imageio.mimsave(name, images, fps=15)\n",
        "      mp4 = open(name,'rb').read()\n",
        "      data_url = \"data:video/mp4;base64,\" + b64encode(mp4).decode()\n",
        "      # This puts the video in the notebook\n",
        "      display(HTML(\"\"\"\n",
        "      <video width=400 controls>\n",
        "            <source src=\"%s\" type=\"video/mp4\">\n",
        "      </video>\n",
        "      \"\"\" % data_url))\n",
        "      # plot various data for the run \n",
        "      _, ax = plt.subplots(1, 3)\n",
        "      data = models[model_name]['runs'][run_idx]['data']\n",
        "      ax[0].plot(data['reward'])\n",
        "      ax[0].set_title('reward')\n",
        "      ax[1].plot(data['x'], data['y'])\n",
        "      ax[1].set_title('position')\n",
        "      ax[2].plot(data['vx'], data['vy'])\n",
        "      ax[2].set_title('velocity')\n",
        "      plt.tight_layout()\n",
        "      "
      ]
    },
    {
      "cell_type": "markdown",
      "metadata": {},
      "source": [
        "# Rewards"
      ]
    },
    {
      "cell_type": "code",
      "execution_count": 14,
      "metadata": {},
      "outputs": [
        {
          "name": "stdout",
          "output_type": "stream",
          "text": [
            "random: -477.42\n",
            "random: -80.93\n",
            "random: -288.32\n",
            "trained: -198.97\n",
            "trained: -320.00\n",
            "trained: 5.62\n",
            "good: 296.98\n",
            "good: 80.09\n",
            "good: 0.88\n",
            "better: 270.98\n",
            "better: 255.24\n",
            "better: 301.49\n"
          ]
        }
      ],
      "source": [
        "for model_name in models.keys():\n",
        "    for run_idx in range(len(models[model_name]['runs'])):\n",
        "        data = models[model_name]['runs'][run_idx]['data']  \n",
        "        # Print the total reward for each model\n",
        "        print(f\"{model_name}: {np.sum(data['reward']):.2f}\")"
      ]
    },
    {
      "cell_type": "markdown",
      "metadata": {},
      "source": [
        "# Write files"
      ]
    },
    {
      "cell_type": "code",
      "execution_count": 56,
      "metadata": {},
      "outputs": [],
      "source": [
        "# This section produces the data for a generative model of the Lunar Lander\n",
        "# Create a single dataframe with all the data\n",
        "# each row is a single run of a single model\n",
        "# each column is a single timestep of a single variable\n",
        "\n",
        "# NOTE:  There needs to be some thinking here.  I mean, while the position,\n",
        "# velocity, and angle are all continuous, the thrust is not.  So, we need to\n",
        "# thinkg about how to interpolate the thrust. I think the data in this case\n",
        "# needs to be \"ragged\" in the sense that each row has a different number of\n",
        "# entries.  However, perhaps we can also just look at the \"shortest\" run and\n",
        "# truncate all the other runs to that length. \n",
        "\n",
        "def uniform_data_for_autoencoder(filename, entries_per_run=100)\n",
        "for model_name in models.keys():\n",
        "    for run_idx in range(len(models[model_name]['runs'])):\n",
        "        df = models[model_name]['runs'][run_idx]['data'].copy()  \n",
        "\n",
        "        # index plays the role of timestep\n",
        "        df['timestamp'] = pd.to_datetime(df.index, unit='s')\n",
        "        df.set_index('timestamp', inplace=True)\n",
        "\n",
        "        # We now compute the delta t that gives us 100 total sample points for each run\n",
        "        # We do this by taking the total time of the run and dividing by 100\n",
        "        total_time = df.index[-1] - df.index[0]\n",
        "        delta_t = total_time / entries_per_run\n",
        "        df = df.resample(delta_t).interpolate()\n",
        "\n",
        "        df = pd.melt(df, \n",
        "                     value_vars=['x', 'y', 'vx', 'vy', 'theta', 'vtheta'], \n",
        "                     var_name='variable', \n",
        "                     ignore_index=False, \n",
        "                     value_name='value')\n",
        "        df.loc[df.index[0]] = ['model_name', model_name]\n",
        "        df.loc[df.index[-1]] = ['total_time', total_time]\n",
        "        "
      ]
    },
    {
      "cell_type": "code",
      "execution_count": 53,
      "metadata": {},
      "outputs": [
        {
          "data": {
            "text/html": [
              "<div>\n",
              "<style scoped>\n",
              "    .dataframe tbody tr th:only-of-type {\n",
              "        vertical-align: middle;\n",
              "    }\n",
              "\n",
              "    .dataframe tbody tr th {\n",
              "        vertical-align: top;\n",
              "    }\n",
              "\n",
              "    .dataframe thead th {\n",
              "        text-align: right;\n",
              "    }\n",
              "</style>\n",
              "<table border=\"1\" class=\"dataframe\">\n",
              "  <thead>\n",
              "    <tr style=\"text-align: right;\">\n",
              "      <th></th>\n",
              "      <th>variable</th>\n",
              "      <th>value</th>\n",
              "    </tr>\n",
              "    <tr>\n",
              "      <th>timestamp</th>\n",
              "      <th></th>\n",
              "      <th></th>\n",
              "    </tr>\n",
              "  </thead>\n",
              "  <tbody>\n",
              "    <tr>\n",
              "      <th>1970-01-01 00:00:00.000</th>\n",
              "      <td>model_name</td>\n",
              "      <td>better</td>\n",
              "    </tr>\n",
              "    <tr>\n",
              "      <th>1970-01-01 00:00:02.360</th>\n",
              "      <td>x</td>\n",
              "      <td>-0.016149</td>\n",
              "    </tr>\n",
              "    <tr>\n",
              "      <th>1970-01-01 00:00:04.720</th>\n",
              "      <td>x</td>\n",
              "      <td>-0.025983</td>\n",
              "    </tr>\n",
              "    <tr>\n",
              "      <th>1970-01-01 00:00:07.080</th>\n",
              "      <td>x</td>\n",
              "      <td>-0.035816</td>\n",
              "    </tr>\n",
              "    <tr>\n",
              "      <th>1970-01-01 00:00:09.440</th>\n",
              "      <td>x</td>\n",
              "      <td>-0.045649</td>\n",
              "    </tr>\n",
              "    <tr>\n",
              "      <th>...</th>\n",
              "      <td>...</td>\n",
              "      <td>...</td>\n",
              "    </tr>\n",
              "    <tr>\n",
              "      <th>1970-01-01 00:03:46.560</th>\n",
              "      <td>y</td>\n",
              "      <td>-0.003334</td>\n",
              "    </tr>\n",
              "    <tr>\n",
              "      <th>1970-01-01 00:03:48.920</th>\n",
              "      <td>y</td>\n",
              "      <td>-0.00278</td>\n",
              "    </tr>\n",
              "    <tr>\n",
              "      <th>1970-01-01 00:03:51.280</th>\n",
              "      <td>y</td>\n",
              "      <td>-0.002225</td>\n",
              "    </tr>\n",
              "    <tr>\n",
              "      <th>1970-01-01 00:03:53.640</th>\n",
              "      <td>y</td>\n",
              "      <td>-0.001671</td>\n",
              "    </tr>\n",
              "    <tr>\n",
              "      <th>1970-01-01 00:03:56.000</th>\n",
              "      <td>total_time</td>\n",
              "      <td>0 days 00:03:56</td>\n",
              "    </tr>\n",
              "  </tbody>\n",
              "</table>\n",
              "<p>202 rows × 2 columns</p>\n",
              "</div>"
            ],
            "text/plain": [
              "                           variable            value\n",
              "timestamp                                           \n",
              "1970-01-01 00:00:00.000  model_name           better\n",
              "1970-01-01 00:00:02.360           x        -0.016149\n",
              "1970-01-01 00:00:04.720           x        -0.025983\n",
              "1970-01-01 00:00:07.080           x        -0.035816\n",
              "1970-01-01 00:00:09.440           x        -0.045649\n",
              "...                             ...              ...\n",
              "1970-01-01 00:03:46.560           y        -0.003334\n",
              "1970-01-01 00:03:48.920           y         -0.00278\n",
              "1970-01-01 00:03:51.280           y        -0.002225\n",
              "1970-01-01 00:03:53.640           y        -0.001671\n",
              "1970-01-01 00:03:56.000  total_time  0 days 00:03:56\n",
              "\n",
              "[202 rows x 2 columns]"
            ]
          },
          "execution_count": 53,
          "metadata": {},
          "output_type": "execute_result"
        }
      ],
      "source": [
        "df"
      ]
    },
    {
      "cell_type": "code",
      "execution_count": null,
      "metadata": {},
      "outputs": [],
      "source": []
    }
  ],
  "metadata": {
    "colab": {
      "provenance": []
    },
    "interpreter": {
      "hash": "91c69d281b806a3add6b161e23d9089dcb392788fdbe6cdd17c006940cab5b65"
    },
    "jupytext": {
      "cell_metadata_filter": "-all",
      "formats": "ipynb,py:percent",
      "main_language": "python"
    },
    "kernelspec": {
      "display_name": "Python 3 (ipykernel)",
      "language": "python",
      "name": "python3"
    },
    "language_info": {
      "codemirror_mode": {
        "name": "ipython",
        "version": 3
      },
      "file_extension": ".py",
      "mimetype": "text/x-python",
      "name": "python",
      "nbconvert_exporter": "python",
      "pygments_lexer": "ipython3",
      "version": "3.8.10"
    },
    "toc-autonumbering": false,
    "toc-showcode": false,
    "toc-showmarkdowntxt": false,
    "toc-showtags": false
  },
  "nbformat": 4,
  "nbformat_minor": 0
}
