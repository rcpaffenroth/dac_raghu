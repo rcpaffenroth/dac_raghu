{
  "cells": [
    {
      "cell_type": "markdown",
      "metadata": {
        "id": "fWT0bopBIPfa"
      },
      "source": [
        "<a target=\"_blank\" href=\"https://colab.research.google.com/github/rcpaffenroth/dac_raghu/blob/main/LunarLander.ipynb\">\n",
        "  <img src=\"https://colab.research.google.com/assets/colab-badge.svg\" alt=\"Open In Colab\"/>\n",
        "</a>"
      ]
    },
    {
      "cell_type": "markdown",
      "metadata": {
        "id": "-2iIpCtRVnAT"
      },
      "source": [
        "# Setup and libraries"
      ]
    },
    {
      "cell_type": "code",
      "execution_count": 27,
      "metadata": {
        "id": "i7rbbIzgUsoH"
      },
      "outputs": [],
      "source": [
        "import sys\n",
        "IN_COLAB = 'google.colab' in sys.modules"
      ]
    },
    {
      "cell_type": "code",
      "execution_count": 28,
      "metadata": {
        "colab": {
          "base_uri": "https://localhost:8080/"
        },
        "id": "ruJt504TJgdh",
        "outputId": "ab6a4eb8-dffd-4e92-8b1d-31fd78cacf1f"
      },
      "outputs": [],
      "source": [
        "if IN_COLAB:\n",
        "  ! apt-get install swig\n",
        "  ! pip install stable-baselines3[extra] gymnasium[box2d] huggingface_sb3\n",
        "else:\n",
        "  # Otherwise, install locally and you need the following\n",
        "  # NOTE: Need \"gym\" and \"gymnasium\" installed, since we use \"gymnasium\" for the LunarLander environment\n",
        "  #       and \"gym\" is for huggingface_sb3.\n",
        "  # NOTE: Need \"ffmpeg\" for the video recording, which may also need to be installed.\n",
        "  # sudo apt install swig\n",
        "  # pip install stable-baselines3[extra] gymnasium[box2d] huggingface_sb3 imageio[ffmpeg] gym ipywidegets ipykernel pandas pyarrow\n",
        "  pass"
      ]
    },
    {
      "cell_type": "code",
      "execution_count": 29,
      "metadata": {
        "colab": {
          "base_uri": "https://localhost:8080/"
        },
        "id": "ObPgW5p7IJCW",
        "outputId": "f98150cb-fdbe-4107-d71a-cf0647206059"
      },
      "outputs": [
        {
          "ename": "ModuleNotFoundError",
          "evalue": "No module named 'ipwidgets'",
          "output_type": "error",
          "traceback": [
            "\u001b[0;31m---------------------------------------------------------------------------\u001b[0m",
            "\u001b[0;31mModuleNotFoundError\u001b[0m                       Traceback (most recent call last)",
            "Cell \u001b[0;32mIn[29], line 13\u001b[0m\n\u001b[1;32m     11\u001b[0m \u001b[39mfrom\u001b[39;00m \u001b[39mIPython\u001b[39;00m\u001b[39m.\u001b[39;00m\u001b[39mdisplay\u001b[39;00m \u001b[39mimport\u001b[39;00m display\n\u001b[1;32m     12\u001b[0m \u001b[39mfrom\u001b[39;00m \u001b[39mIPython\u001b[39;00m\u001b[39m.\u001b[39;00m\u001b[39mdisplay\u001b[39;00m \u001b[39mimport\u001b[39;00m HTML\n\u001b[0;32m---> 13\u001b[0m \u001b[39mfrom\u001b[39;00m \u001b[39mipwidgets\u001b[39;00m \u001b[39mimport\u001b[39;00m interact, widgets\n\u001b[1;32m     14\u001b[0m \u001b[39mfrom\u001b[39;00m \u001b[39mbase64\u001b[39;00m \u001b[39mimport\u001b[39;00m b64encode\n\u001b[1;32m     15\u001b[0m get_ipython()\u001b[39m.\u001b[39mrun_line_magic(\u001b[39m'\u001b[39m\u001b[39mmatplotlib\u001b[39m\u001b[39m'\u001b[39m, \u001b[39m'\u001b[39m\u001b[39minline\u001b[39m\u001b[39m'\u001b[39m)\n",
            "\u001b[0;31mModuleNotFoundError\u001b[0m: No module named 'ipwidgets'"
          ]
        }
      ],
      "source": [
        "import gymnasium as gym\n",
        "import matplotlib.pylab as py\n",
        "import numpy as np\n",
        "\n",
        "import imageio\n",
        "from stable_baselines3 import PPO\n",
        "from huggingface_sb3 import load_from_hub\n",
        "\n",
        "import pandas as pd\n",
        "\n",
        "from IPython.display import display\n",
        "from IPython.display import HTML\n",
        "from ipwidgets import interact, widgets\n",
        "from base64 import b64encode\n",
        "%matplotlib inline"
      ]
    },
    {
      "cell_type": "code",
      "execution_count": null,
      "metadata": {
        "id": "f3qMKvCMIJCY"
      },
      "outputs": [],
      "source": [
        "# Make the environment\n",
        "env = gym.make(\"LunarLander-v2\", render_mode='rgb_array')\n",
        "observation = env.reset()\n"
      ]
    },
    {
      "cell_type": "markdown",
      "metadata": {},
      "source": [
        "### Action Space\n",
        "There are four discrete actions available:\n",
        "\n",
        "0: do nothing\n",
        "\n",
        "1: fire left orientation engine\n",
        "\n",
        "2: fire main engine\n",
        "\n",
        "3: fire right orientation engine\n",
        "\n",
        "### Observation Space\n",
        "\n",
        "The state is an 8-dimensional vector: the coordinates of the lander in x & y, its linear velocities in x & y, its angle, its angular velocity, and two booleans that represent whether each leg is in contact with the ground or not."
      ]
    },
    {
      "cell_type": "code",
      "execution_count": null,
      "metadata": {},
      "outputs": [],
      "source": [
        "obs_names = ['x', 'y', 'vx', 'vy', 'theta', 'vtheta', 'leg1', 'leg2']"
      ]
    },
    {
      "cell_type": "markdown",
      "metadata": {
        "id": "U9xZJaSBVYGZ"
      },
      "source": [
        "# Train a model"
      ]
    },
    {
      "cell_type": "code",
      "execution_count": null,
      "metadata": {},
      "outputs": [],
      "source": [
        "models = {}"
      ]
    },
    {
      "cell_type": "code",
      "execution_count": null,
      "metadata": {
        "id": "gYpJvvJ1YwBs"
      },
      "outputs": [],
      "source": [
        "class RandomModel(object):\n",
        "  def __init__(self, env):\n",
        "    self.env = env\n",
        "\n",
        "  def predict(self, obs):\n",
        "    return env.action_space.sample(), None # The second return value is the state value, which the random model does not use\n",
        "\n",
        "random_model =  RandomModel(env)\n",
        "models['random'] = {}\n",
        "models['random']['model'] = random_model\n",
        "models['random']['runs'] = []"
      ]
    },
    {
      "cell_type": "code",
      "execution_count": null,
      "metadata": {
        "colab": {
          "base_uri": "https://localhost:8080/"
        },
        "id": "Y_LcXjSjIJCa",
        "outputId": "d86fc160-2ed6-4efa-befd-a2b2edb82da6"
      },
      "outputs": [],
      "source": [
        "# This is an trained model that has a good architecture and loss function, but is not trained very much.  This takes about 30 sec on \n",
        "# a RTX 4090\n",
        "trained_model = PPO(\"MlpPolicy\", env)\n",
        "trained_model.learn(total_timesteps=20000)\n",
        "\n",
        "models['trained'] = {}\n",
        "models['trained']['model'] = trained_model\n",
        "models['trained']['runs'] = []"
      ]
    },
    {
      "cell_type": "code",
      "execution_count": null,
      "metadata": {
        "colab": {
          "base_uri": "https://localhost:8080/"
        },
        "id": "mK-mnlzyWXmb",
        "outputId": "e6dde32e-374c-47df-e299-60ed1093c16a"
      },
      "outputs": [
        {
          "name": "stderr",
          "output_type": "stream",
          "text": [
            "/home/rcpaffenroth/projects/dac_raghu/venv/lib/python3.8/site-packages/stable_baselines3/common/save_util.py:166: UserWarning: Could not deserialize object learning_rate. Consider using `custom_objects` argument to replace this object.\n",
            "Exception: an integer is required (got type bytes)\n",
            "  warnings.warn(\n",
            "/home/rcpaffenroth/projects/dac_raghu/venv/lib/python3.8/site-packages/stable_baselines3/common/save_util.py:166: UserWarning: Could not deserialize object lr_schedule. Consider using `custom_objects` argument to replace this object.\n",
            "Exception: an integer is required (got type bytes)\n",
            "  warnings.warn(\n",
            "/home/rcpaffenroth/projects/dac_raghu/venv/lib/python3.8/site-packages/stable_baselines3/common/vec_env/patch_gym.py:95: UserWarning: You loaded a model that was trained using OpenAI Gym. We strongly recommend transitioning to Gymnasium by saving that model again.\n",
            "  warnings.warn(\n"
          ]
        }
      ],
      "source": [
        "# This is a model from huggingface.co at https://huggingface.co/sb3/a2c-LunarLander-v2\n",
        "# Mean reward: 181.08 +/- 95.35\n",
        "checkpoint = load_from_hub(\n",
        "    repo_id=\"sb3/a2c-LunarLander-v2\",\n",
        "    filename=\"a2c-LunarLander-v2.zip\",\n",
        ")\n",
        "\n",
        "good_model = PPO.load(checkpoint)\n",
        "\n",
        "models['good'] = {}\n",
        "models['good']['model'] = good_model\n",
        "models['good']['runs'] = []"
      ]
    },
    {
      "cell_type": "code",
      "execution_count": null,
      "metadata": {},
      "outputs": [
        {
          "name": "stderr",
          "output_type": "stream",
          "text": [
            "/home/rcpaffenroth/projects/dac_raghu/venv/lib/python3.8/site-packages/stable_baselines3/common/save_util.py:166: UserWarning: Could not deserialize object lr_schedule. Consider using `custom_objects` argument to replace this object.\n",
            "Exception: an integer is required (got type bytes)\n",
            "  warnings.warn(\n",
            "/home/rcpaffenroth/projects/dac_raghu/venv/lib/python3.8/site-packages/stable_baselines3/common/save_util.py:166: UserWarning: Could not deserialize object clip_range. Consider using `custom_objects` argument to replace this object.\n",
            "Exception: an integer is required (got type bytes)\n",
            "  warnings.warn(\n",
            "/home/rcpaffenroth/projects/dac_raghu/venv/lib/python3.8/site-packages/stable_baselines3/common/vec_env/patch_gym.py:95: UserWarning: You loaded a model that was trained using OpenAI Gym. We strongly recommend transitioning to Gymnasium by saving that model again.\n",
            "  warnings.warn(\n"
          ]
        }
      ],
      "source": [
        "# This is a model from huggingface.co at https://huggingface.co/araffin/ppo-LunarLander-v2\n",
        "# Mean reward:  283.49 +/- 13.74\n",
        "checkpoint = load_from_hub(\n",
        "    repo_id=\"araffin/ppo-LunarLander-v2\",\n",
        "    filename=\"ppo-LunarLander-v2.zip\",\n",
        ")\n",
        "\n",
        "better_model = PPO.load(checkpoint)\n",
        "models['better'] = {}\n",
        "models['better']['model'] = better_model\n",
        "models['better']['runs'] = []"
      ]
    },
    {
      "cell_type": "markdown",
      "metadata": {
        "id": "Yq_dUEp9YkcA"
      },
      "source": [
        "# Evaluate models"
      ]
    },
    {
      "cell_type": "code",
      "execution_count": null,
      "metadata": {
        "id": "cOBZwfCqIJCc"
      },
      "outputs": [],
      "source": [
        "def evaluate_model(model_name, models=models, env=env):\n",
        "   # Make a movie of a trained agent\n",
        "   obs = env.reset()[0]\n",
        "\n",
        "   # Get the model\n",
        "   model = models[model_name]['model']\n",
        "   images = []\n",
        "   all_obs = []\n",
        "   all_actions = []\n",
        "   all_rewards = []\n",
        "   done = False\n",
        "   while not done:\n",
        "      # This rendering mode puts an image into a numpy array\n",
        "      images += [env.render()]\n",
        "      action, _state = model.predict(obs)\n",
        "      all_obs.append(obs)\n",
        "      all_actions.append(action)\n",
        "      obs, reward, done, trunc, info = env.step(action)\n",
        "      all_rewards.append(reward)\n",
        "   env.close()\n",
        "\n",
        "   df = pd.DataFrame(all_obs, columns=obs_names)\n",
        "   df['action'] = all_actions\n",
        "   df['reward'] = all_rewards\n",
        "   models[model_name]['runs'].append({'data':df,'images':images})\n",
        "\n"
      ]
    },
    {
      "cell_type": "code",
      "execution_count": null,
      "metadata": {},
      "outputs": [],
      "source": [
        "for i in range(3):\n",
        "    evaluate_model('random')\n",
        "    evaluate_model('trained')\n",
        "    evaluate_model('good')\n",
        "    evaluate_model('better')\n",
        "    "
      ]
    },
    {
      "cell_type": "code",
      "execution_count": null,
      "metadata": {
        "colab": {
          "base_uri": "https://localhost:8080/",
          "height": 322
        },
        "id": "rx-9iDZhIJCg",
        "outputId": "dc4b109d-b664-4c03-878d-73df4c5c19f8"
      },
      "outputs": [
        {
          "name": "stderr",
          "output_type": "stream",
          "text": [
            "IMAGEIO FFMPEG_WRITER WARNING: input image is not divisible by macro_block_size=16, resizing from (600, 400) to (608, 400) to ensure video compatibility with most codecs and players. To prevent resizing, make your input image divisible by the macro_block_size or set the macro_block_size to 1 (risking incompatibility).\n",
            "[swscaler @ 0x69835c0] Warning: data is not aligned! This can lead to a speed loss\n"
          ]
        },
        {
          "data": {
            "text/html": [
              "\n",
              "<video width=400 controls>\n",
              "      <source src=\"data:video/mp4;base64,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\" type=\"video/mp4\">\n",
              "</video>\n"
            ],
            "text/plain": [
              "<IPython.core.display.HTML object>"
            ]
          },
          "execution_count": 10,
          "metadata": {},
          "output_type": "execute_result"
        }
      ],
      "source": [
        "@interact(model_name=[models.keys()], run_idx=widgets.IntSlider(min=0, max=9, step=1, value=0))\n",
        "def show_video(model_name, run_idx):\n",
        "      images = models[model_name]['runs'][run_idx]['images']      \n",
        "      # imageio is a nice library for taking a sequence of images and makeing a movie\n",
        "      name = 'tmp.mp4'\n",
        "      imageio.mimsave(name, images, fps=15)\n",
        "      mp4 = open(name,'rb').read()\n",
        "      data_url = \"data:video/mp4;base64,\" + b64encode(mp4).decode()\n",
        "      display(HTML(\"\"\"\n",
        "      <video width=400 controls>\n",
        "            <source src=\"%s\" type=\"video/mp4\">\n",
        "      </video>\n",
        "      \"\"\" % data_url))"
      ]
    }
  ],
  "metadata": {
    "colab": {
      "provenance": []
    },
    "interpreter": {
      "hash": "91c69d281b806a3add6b161e23d9089dcb392788fdbe6cdd17c006940cab5b65"
    },
    "jupytext": {
      "cell_metadata_filter": "-all",
      "formats": "ipynb,py:percent",
      "main_language": "python"
    },
    "kernelspec": {
      "display_name": "Python 3 (ipykernel)",
      "language": "python",
      "name": "python3"
    },
    "language_info": {
      "codemirror_mode": {
        "name": "ipython",
        "version": 3
      },
      "file_extension": ".py",
      "mimetype": "text/x-python",
      "name": "python",
      "nbconvert_exporter": "python",
      "pygments_lexer": "ipython3",
      "version": "3.8.10"
    },
    "toc-autonumbering": false,
    "toc-showcode": false,
    "toc-showmarkdowntxt": false,
    "toc-showtags": false
  },
  "nbformat": 4,
  "nbformat_minor": 0
}
