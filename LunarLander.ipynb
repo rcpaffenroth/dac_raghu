{
  "cells": [
    {
      "cell_type": "markdown",
      "source": [
        "<a target=\"_blank\" href=\"https://colab.research.google.com/github/rcpaffenroth/dac_raghu/blob/main/LunarLander.ipynb\">\n",
        "  <img src=\"https://colab.research.google.com/assets/colab-badge.svg\" alt=\"Open In Colab\"/>\n",
        "</a>"
      ],
      "metadata": {
        "id": "fWT0bopBIPfa"
      }
    },
    {
      "cell_type": "code",
      "source": [
        "! apt-get install build-essential swig\n",
        "! pip install stable-baselines3[extra] gymnasium[box2d]"
      ],
      "metadata": {
        "id": "ruJt504TJgdh",
        "outputId": "a197ffa5-b1d4-4311-d490-8b2056b5af8a",
        "colab": {
          "base_uri": "https://localhost:8080/"
        }
      },
      "execution_count": 11,
      "outputs": [
        {
          "output_type": "stream",
          "name": "stdout",
          "text": [
            "Reading package lists... Done\n",
            "Building dependency tree... Done\n",
            "Reading state information... Done\n",
            "build-essential is already the newest version (12.9ubuntu3).\n",
            "swig is already the newest version (4.0.2-1ubuntu1).\n",
            "0 upgraded, 0 newly installed, 0 to remove and 8 not upgraded.\n",
            "Requirement already satisfied: stable-baselines3[extra] in /usr/local/lib/python3.10/dist-packages (2.0.0)\n",
            "Requirement already satisfied: gymnasium[box2d] in /usr/local/lib/python3.10/dist-packages (0.28.1)\n",
            "Requirement already satisfied: numpy>=1.20 in /usr/local/lib/python3.10/dist-packages (from stable-baselines3[extra]) (1.22.4)\n",
            "Requirement already satisfied: torch>=1.11 in /usr/local/lib/python3.10/dist-packages (from stable-baselines3[extra]) (2.0.1+cu118)\n",
            "Requirement already satisfied: cloudpickle in /usr/local/lib/python3.10/dist-packages (from stable-baselines3[extra]) (2.2.1)\n",
            "Requirement already satisfied: pandas in /usr/local/lib/python3.10/dist-packages (from stable-baselines3[extra]) (1.5.3)\n",
            "Requirement already satisfied: matplotlib in /usr/local/lib/python3.10/dist-packages (from stable-baselines3[extra]) (3.7.1)\n",
            "Requirement already satisfied: opencv-python in /usr/local/lib/python3.10/dist-packages (from stable-baselines3[extra]) (4.7.0.72)\n",
            "Requirement already satisfied: tensorboard>=2.9.1 in /usr/local/lib/python3.10/dist-packages (from stable-baselines3[extra]) (2.12.3)\n",
            "Requirement already satisfied: psutil in /usr/local/lib/python3.10/dist-packages (from stable-baselines3[extra]) (5.9.5)\n",
            "Requirement already satisfied: tqdm in /usr/local/lib/python3.10/dist-packages (from stable-baselines3[extra]) (4.65.0)\n",
            "Requirement already satisfied: rich in /usr/local/lib/python3.10/dist-packages (from stable-baselines3[extra]) (13.4.2)\n",
            "Requirement already satisfied: shimmy[atari]~=0.2.1 in /usr/local/lib/python3.10/dist-packages (from stable-baselines3[extra]) (0.2.1)\n",
            "Requirement already satisfied: pillow in /usr/local/lib/python3.10/dist-packages (from stable-baselines3[extra]) (9.4.0)\n",
            "Requirement already satisfied: autorom[accept-rom-license]~=0.6.0 in /usr/local/lib/python3.10/dist-packages (from stable-baselines3[extra]) (0.6.1)\n",
            "Requirement already satisfied: pygame in /usr/local/lib/python3.10/dist-packages (from stable-baselines3[extra]) (2.1.3)\n",
            "Requirement already satisfied: jax-jumpy>=1.0.0 in /usr/local/lib/python3.10/dist-packages (from gymnasium[box2d]) (1.0.0)\n",
            "Requirement already satisfied: typing-extensions>=4.3.0 in /usr/local/lib/python3.10/dist-packages (from gymnasium[box2d]) (4.7.1)\n",
            "Requirement already satisfied: farama-notifications>=0.0.1 in /usr/local/lib/python3.10/dist-packages (from gymnasium[box2d]) (0.0.4)\n",
            "Requirement already satisfied: box2d-py==2.3.5 in /usr/local/lib/python3.10/dist-packages (from gymnasium[box2d]) (2.3.5)\n",
            "Requirement already satisfied: swig==4.* in /usr/local/lib/python3.10/dist-packages (from gymnasium[box2d]) (4.1.1)\n",
            "Requirement already satisfied: click in /usr/local/lib/python3.10/dist-packages (from autorom[accept-rom-license]~=0.6.0->stable-baselines3[extra]) (8.1.6)\n",
            "Requirement already satisfied: requests in /usr/local/lib/python3.10/dist-packages (from autorom[accept-rom-license]~=0.6.0->stable-baselines3[extra]) (2.27.1)\n",
            "Requirement already satisfied: AutoROM.accept-rom-license in /usr/local/lib/python3.10/dist-packages (from autorom[accept-rom-license]~=0.6.0->stable-baselines3[extra]) (0.6.1)\n",
            "Requirement already satisfied: ale-py~=0.8.1 in /usr/local/lib/python3.10/dist-packages (from shimmy[atari]~=0.2.1->stable-baselines3[extra]) (0.8.1)\n",
            "Requirement already satisfied: absl-py>=0.4 in /usr/local/lib/python3.10/dist-packages (from tensorboard>=2.9.1->stable-baselines3[extra]) (1.4.0)\n",
            "Requirement already satisfied: grpcio>=1.48.2 in /usr/local/lib/python3.10/dist-packages (from tensorboard>=2.9.1->stable-baselines3[extra]) (1.56.2)\n",
            "Requirement already satisfied: google-auth<3,>=1.6.3 in /usr/local/lib/python3.10/dist-packages (from tensorboard>=2.9.1->stable-baselines3[extra]) (2.17.3)\n",
            "Requirement already satisfied: google-auth-oauthlib<1.1,>=0.5 in /usr/local/lib/python3.10/dist-packages (from tensorboard>=2.9.1->stable-baselines3[extra]) (1.0.0)\n",
            "Requirement already satisfied: markdown>=2.6.8 in /usr/local/lib/python3.10/dist-packages (from tensorboard>=2.9.1->stable-baselines3[extra]) (3.4.4)\n",
            "Requirement already satisfied: protobuf>=3.19.6 in /usr/local/lib/python3.10/dist-packages (from tensorboard>=2.9.1->stable-baselines3[extra]) (3.20.3)\n",
            "Requirement already satisfied: setuptools>=41.0.0 in /usr/local/lib/python3.10/dist-packages (from tensorboard>=2.9.1->stable-baselines3[extra]) (67.7.2)\n",
            "Requirement already satisfied: tensorboard-data-server<0.8.0,>=0.7.0 in /usr/local/lib/python3.10/dist-packages (from tensorboard>=2.9.1->stable-baselines3[extra]) (0.7.1)\n",
            "Requirement already satisfied: werkzeug>=1.0.1 in /usr/local/lib/python3.10/dist-packages (from tensorboard>=2.9.1->stable-baselines3[extra]) (2.3.6)\n",
            "Requirement already satisfied: wheel>=0.26 in /usr/local/lib/python3.10/dist-packages (from tensorboard>=2.9.1->stable-baselines3[extra]) (0.41.0)\n",
            "Requirement already satisfied: filelock in /usr/local/lib/python3.10/dist-packages (from torch>=1.11->stable-baselines3[extra]) (3.12.2)\n",
            "Requirement already satisfied: sympy in /usr/local/lib/python3.10/dist-packages (from torch>=1.11->stable-baselines3[extra]) (1.11.1)\n",
            "Requirement already satisfied: networkx in /usr/local/lib/python3.10/dist-packages (from torch>=1.11->stable-baselines3[extra]) (3.1)\n",
            "Requirement already satisfied: jinja2 in /usr/local/lib/python3.10/dist-packages (from torch>=1.11->stable-baselines3[extra]) (3.1.2)\n",
            "Requirement already satisfied: triton==2.0.0 in /usr/local/lib/python3.10/dist-packages (from torch>=1.11->stable-baselines3[extra]) (2.0.0)\n",
            "Requirement already satisfied: cmake in /usr/local/lib/python3.10/dist-packages (from triton==2.0.0->torch>=1.11->stable-baselines3[extra]) (3.25.2)\n",
            "Requirement already satisfied: lit in /usr/local/lib/python3.10/dist-packages (from triton==2.0.0->torch>=1.11->stable-baselines3[extra]) (16.0.6)\n",
            "Requirement already satisfied: contourpy>=1.0.1 in /usr/local/lib/python3.10/dist-packages (from matplotlib->stable-baselines3[extra]) (1.1.0)\n",
            "Requirement already satisfied: cycler>=0.10 in /usr/local/lib/python3.10/dist-packages (from matplotlib->stable-baselines3[extra]) (0.11.0)\n",
            "Requirement already satisfied: fonttools>=4.22.0 in /usr/local/lib/python3.10/dist-packages (from matplotlib->stable-baselines3[extra]) (4.41.1)\n",
            "Requirement already satisfied: kiwisolver>=1.0.1 in /usr/local/lib/python3.10/dist-packages (from matplotlib->stable-baselines3[extra]) (1.4.4)\n",
            "Requirement already satisfied: packaging>=20.0 in /usr/local/lib/python3.10/dist-packages (from matplotlib->stable-baselines3[extra]) (23.1)\n",
            "Requirement already satisfied: pyparsing>=2.3.1 in /usr/local/lib/python3.10/dist-packages (from matplotlib->stable-baselines3[extra]) (3.1.0)\n",
            "Requirement already satisfied: python-dateutil>=2.7 in /usr/local/lib/python3.10/dist-packages (from matplotlib->stable-baselines3[extra]) (2.8.2)\n",
            "Requirement already satisfied: pytz>=2020.1 in /usr/local/lib/python3.10/dist-packages (from pandas->stable-baselines3[extra]) (2022.7.1)\n",
            "Requirement already satisfied: markdown-it-py>=2.2.0 in /usr/local/lib/python3.10/dist-packages (from rich->stable-baselines3[extra]) (3.0.0)\n",
            "Requirement already satisfied: pygments<3.0.0,>=2.13.0 in /usr/local/lib/python3.10/dist-packages (from rich->stable-baselines3[extra]) (2.14.0)\n",
            "Requirement already satisfied: importlib-resources in /usr/local/lib/python3.10/dist-packages (from ale-py~=0.8.1->shimmy[atari]~=0.2.1->stable-baselines3[extra]) (6.0.0)\n",
            "Requirement already satisfied: cachetools<6.0,>=2.0.0 in /usr/local/lib/python3.10/dist-packages (from google-auth<3,>=1.6.3->tensorboard>=2.9.1->stable-baselines3[extra]) (5.3.1)\n",
            "Requirement already satisfied: pyasn1-modules>=0.2.1 in /usr/local/lib/python3.10/dist-packages (from google-auth<3,>=1.6.3->tensorboard>=2.9.1->stable-baselines3[extra]) (0.3.0)\n",
            "Requirement already satisfied: six>=1.9.0 in /usr/local/lib/python3.10/dist-packages (from google-auth<3,>=1.6.3->tensorboard>=2.9.1->stable-baselines3[extra]) (1.16.0)\n",
            "Requirement already satisfied: rsa<5,>=3.1.4 in /usr/local/lib/python3.10/dist-packages (from google-auth<3,>=1.6.3->tensorboard>=2.9.1->stable-baselines3[extra]) (4.9)\n",
            "Requirement already satisfied: requests-oauthlib>=0.7.0 in /usr/local/lib/python3.10/dist-packages (from google-auth-oauthlib<1.1,>=0.5->tensorboard>=2.9.1->stable-baselines3[extra]) (1.3.1)\n",
            "Requirement already satisfied: mdurl~=0.1 in /usr/local/lib/python3.10/dist-packages (from markdown-it-py>=2.2.0->rich->stable-baselines3[extra]) (0.1.2)\n",
            "Requirement already satisfied: urllib3<1.27,>=1.21.1 in /usr/local/lib/python3.10/dist-packages (from requests->autorom[accept-rom-license]~=0.6.0->stable-baselines3[extra]) (1.26.16)\n",
            "Requirement already satisfied: certifi>=2017.4.17 in /usr/local/lib/python3.10/dist-packages (from requests->autorom[accept-rom-license]~=0.6.0->stable-baselines3[extra]) (2023.7.22)\n",
            "Requirement already satisfied: charset-normalizer~=2.0.0 in /usr/local/lib/python3.10/dist-packages (from requests->autorom[accept-rom-license]~=0.6.0->stable-baselines3[extra]) (2.0.12)\n",
            "Requirement already satisfied: idna<4,>=2.5 in /usr/local/lib/python3.10/dist-packages (from requests->autorom[accept-rom-license]~=0.6.0->stable-baselines3[extra]) (3.4)\n",
            "Requirement already satisfied: MarkupSafe>=2.1.1 in /usr/local/lib/python3.10/dist-packages (from werkzeug>=1.0.1->tensorboard>=2.9.1->stable-baselines3[extra]) (2.1.3)\n",
            "Requirement already satisfied: mpmath>=0.19 in /usr/local/lib/python3.10/dist-packages (from sympy->torch>=1.11->stable-baselines3[extra]) (1.3.0)\n",
            "Requirement already satisfied: pyasn1<0.6.0,>=0.4.6 in /usr/local/lib/python3.10/dist-packages (from pyasn1-modules>=0.2.1->google-auth<3,>=1.6.3->tensorboard>=2.9.1->stable-baselines3[extra]) (0.5.0)\n",
            "Requirement already satisfied: oauthlib>=3.0.0 in /usr/local/lib/python3.10/dist-packages (from requests-oauthlib>=0.7.0->google-auth-oauthlib<1.1,>=0.5->tensorboard>=2.9.1->stable-baselines3[extra]) (3.2.2)\n"
          ]
        }
      ]
    },
    {
      "cell_type": "code",
      "execution_count": 12,
      "metadata": {
        "id": "ObPgW5p7IJCW"
      },
      "outputs": [],
      "source": [
        "import gymnasium as gym\n",
        "import matplotlib.pylab as py\n",
        "import numpy as np\n",
        "\n",
        "import imageio\n",
        "from stable_baselines3 import PPO\n",
        "\n",
        "from IPython import display\n",
        "%matplotlib inline"
      ]
    },
    {
      "cell_type": "code",
      "source": [
        "from IPython.display import HTML\n",
        "from base64 import b64encode"
      ],
      "metadata": {
        "id": "ry2_HYtbOgGH"
      },
      "execution_count": 27,
      "outputs": []
    },
    {
      "cell_type": "code",
      "execution_count": 13,
      "metadata": {
        "id": "f3qMKvCMIJCY"
      },
      "outputs": [],
      "source": [
        "# Make the environment\n",
        "env = gym.make(\"LunarLander-v2\", render_mode='rgb_array')\n",
        "\n",
        "observation = env.reset()\n",
        "# Note, there are warnings here that I should fix at some point."
      ]
    },
    {
      "cell_type": "code",
      "execution_count": 14,
      "metadata": {
        "id": "Y_LcXjSjIJCa",
        "outputId": "8cec0ac8-b261-44e0-b7ec-d5ee76bc3706",
        "colab": {
          "base_uri": "https://localhost:8080/"
        }
      },
      "outputs": [
        {
          "output_type": "stream",
          "name": "stdout",
          "text": [
            "Using cpu device\n",
            "Wrapping the env with a `Monitor` wrapper\n",
            "Wrapping the env in a DummyVecEnv.\n",
            "---------------------------------\n",
            "| rollout/           |          |\n",
            "|    ep_len_mean     | 88.7     |\n",
            "|    ep_rew_mean     | -203     |\n",
            "| time/              |          |\n",
            "|    fps             | 606      |\n",
            "|    iterations      | 1        |\n",
            "|    time_elapsed    | 3        |\n",
            "|    total_timesteps | 2048     |\n",
            "---------------------------------\n",
            "------------------------------------------\n",
            "| rollout/                |              |\n",
            "|    ep_len_mean          | 95.1         |\n",
            "|    ep_rew_mean          | -164         |\n",
            "| time/                   |              |\n",
            "|    fps                  | 255          |\n",
            "|    iterations           | 2            |\n",
            "|    time_elapsed         | 16           |\n",
            "|    total_timesteps      | 4096         |\n",
            "| train/                  |              |\n",
            "|    approx_kl            | 0.0064943526 |\n",
            "|    clip_fraction        | 0.0209       |\n",
            "|    clip_range           | 0.2          |\n",
            "|    entropy_loss         | -1.38        |\n",
            "|    explained_variance   | 0.00168      |\n",
            "|    learning_rate        | 0.0003       |\n",
            "|    loss                 | 986          |\n",
            "|    n_updates            | 10           |\n",
            "|    policy_gradient_loss | -0.00841     |\n",
            "|    value_loss           | 2.07e+03     |\n",
            "------------------------------------------\n",
            "-----------------------------------------\n",
            "| rollout/                |             |\n",
            "|    ep_len_mean          | 96.7        |\n",
            "|    ep_rew_mean          | -149        |\n",
            "| time/                   |             |\n",
            "|    fps                  | 289         |\n",
            "|    iterations           | 3           |\n",
            "|    time_elapsed         | 21          |\n",
            "|    total_timesteps      | 6144        |\n",
            "| train/                  |             |\n",
            "|    approx_kl            | 0.014848459 |\n",
            "|    clip_fraction        | 0.128       |\n",
            "|    clip_range           | 0.2         |\n",
            "|    entropy_loss         | -1.36       |\n",
            "|    explained_variance   | -0.00708    |\n",
            "|    learning_rate        | 0.0003      |\n",
            "|    loss                 | 473         |\n",
            "|    n_updates            | 20          |\n",
            "|    policy_gradient_loss | -0.0112     |\n",
            "|    value_loss           | 703         |\n",
            "-----------------------------------------\n",
            "-----------------------------------------\n",
            "| rollout/                |             |\n",
            "|    ep_len_mean          | 99.9        |\n",
            "|    ep_rew_mean          | -153        |\n",
            "| time/                   |             |\n",
            "|    fps                  | 327         |\n",
            "|    iterations           | 4           |\n",
            "|    time_elapsed         | 25          |\n",
            "|    total_timesteps      | 8192        |\n",
            "| train/                  |             |\n",
            "|    approx_kl            | 0.011221985 |\n",
            "|    clip_fraction        | 0.0825      |\n",
            "|    clip_range           | 0.2         |\n",
            "|    entropy_loss         | -1.35       |\n",
            "|    explained_variance   | -0.00528    |\n",
            "|    learning_rate        | 0.0003      |\n",
            "|    loss                 | 239         |\n",
            "|    n_updates            | 30          |\n",
            "|    policy_gradient_loss | -0.00762    |\n",
            "|    value_loss           | 537         |\n",
            "-----------------------------------------\n",
            "-----------------------------------------\n",
            "| rollout/                |             |\n",
            "|    ep_len_mean          | 111         |\n",
            "|    ep_rew_mean          | -149        |\n",
            "| time/                   |             |\n",
            "|    fps                  | 319         |\n",
            "|    iterations           | 5           |\n",
            "|    time_elapsed         | 32          |\n",
            "|    total_timesteps      | 10240       |\n",
            "| train/                  |             |\n",
            "|    approx_kl            | 0.009599147 |\n",
            "|    clip_fraction        | 0.0316      |\n",
            "|    clip_range           | 0.2         |\n",
            "|    entropy_loss         | -1.32       |\n",
            "|    explained_variance   | 0.000154    |\n",
            "|    learning_rate        | 0.0003      |\n",
            "|    loss                 | 204         |\n",
            "|    n_updates            | 40          |\n",
            "|    policy_gradient_loss | -0.0062     |\n",
            "|    value_loss           | 572         |\n",
            "-----------------------------------------\n"
          ]
        },
        {
          "output_type": "execute_result",
          "data": {
            "text/plain": [
              "<stable_baselines3.ppo.ppo.PPO at 0x79dbd07304c0>"
            ]
          },
          "metadata": {},
          "execution_count": 14
        }
      ],
      "source": [
        "# This is an untrained model that has a good architecture and loss function\n",
        "model = PPO(\"MlpPolicy\", env, verbose=1)\n",
        "model.learn(total_timesteps=10000)"
      ]
    },
    {
      "cell_type": "code",
      "execution_count": 15,
      "metadata": {
        "id": "cOBZwfCqIJCc",
        "outputId": "1c308172-a66d-4dda-a27f-6295f1a3ca23",
        "colab": {
          "base_uri": "https://localhost:8080/"
        }
      },
      "outputs": [
        {
          "output_type": "stream",
          "name": "stdout",
          "text": [
            "reward: -0.16165973136647266\n",
            "reward: 0.8174315557882437\n",
            "reward: -0.09909448332470447\n",
            "reward: -0.4150950672877787\n",
            "reward: -0.27355681499028495\n",
            "reward: -1.3824400091275766\n",
            "reward: -2.178687945787658\n",
            "reward: -1.9630088988246814\n",
            "reward: 2.6660139159556993\n",
            "reward: -2.8090356494018054\n",
            "reward: -2.1273212453837687\n",
            "reward: 2.287352547355579\n",
            "reward: -2.1344436391873103\n",
            "reward: -1.9805159364798033\n",
            "reward: -2.2222730599861777\n",
            "reward: 0.25448410908962843\n",
            "reward: -2.5074475257705444\n",
            "reward: 3.3416489906774247\n",
            "reward: -2.6524175532905745\n",
            "reward: 0.6954126535724299\n",
            "reward: -2.3379139050771016\n",
            "reward: -2.444184063958487\n",
            "reward: -1.9755620649938226\n",
            "reward: -2.2567618812619785\n",
            "reward: -2.0814106808823567\n",
            "reward: -1.9599470541435255\n",
            "reward: 3.323521183947901\n",
            "reward: -1.7828083635559995\n",
            "reward: -1.4557473512290926\n",
            "reward: 1.8674272635922022\n",
            "reward: -1.4807992690944616\n",
            "reward: -1.4485542735450554\n",
            "reward: -1.188771142178722\n",
            "reward: -1.0115902555706373\n",
            "reward: -0.8723748595380119\n",
            "reward: -0.9197773358556833\n",
            "reward: -0.6371430370632243\n",
            "reward: -0.4302741991272103\n",
            "reward: 3.653982017123849\n",
            "reward: 5.1913655593231285\n",
            "reward: -0.7831282661701653\n",
            "reward: -1.027936655333973\n",
            "reward: -1.1153985079332063\n",
            "reward: -1.3722996127932834\n",
            "reward: -1.2667683407216532\n",
            "reward: -1.322313828590693\n",
            "reward: -1.1423584865499368\n",
            "reward: -1.1957265822731518\n",
            "reward: -1.0633943231565286\n",
            "reward: -1.1319437493977194\n",
            "reward: -1.248299067464443\n",
            "reward: -1.4250820739310643\n",
            "reward: -1.3211703614745716\n",
            "reward: -1.0875643396776684\n",
            "reward: -0.8297727108438824\n",
            "reward: 4.118079548408912\n",
            "reward: 4.039826775948382\n",
            "reward: -0.704189224989334\n",
            "reward: -0.6748348618899627\n",
            "reward: 1.6228374031588089\n",
            "reward: -0.9159677686007501\n",
            "reward: 1.704074639282038\n",
            "reward: -1.1357508772796325\n",
            "reward: -1.2528508320501988\n",
            "reward: -1.3645878524346233\n",
            "reward: -1.6629937174377278\n",
            "reward: -1.2086497980198476\n",
            "reward: 2.178384165024238\n",
            "reward: -0.9122292345307688\n",
            "reward: -0.7041649553274556\n",
            "reward: -0.7939961124296815\n",
            "reward: 2.275014989134786\n",
            "reward: -0.5010342402950687\n",
            "reward: -0.2878596372557627\n",
            "reward: -0.3789080114208332\n",
            "reward: -0.7274788407062249\n",
            "reward: -0.8996441095262628\n",
            "reward: -0.49973804828172663\n",
            "reward: -0.32244525745531294\n",
            "reward: -0.2956293304076485\n",
            "reward: 3.43090009341243\n",
            "reward: 8.73890928626716\n",
            "reward: 6.343546808834646\n",
            "reward: -100\n"
          ]
        }
      ],
      "source": [
        "# Make a movie of a random agent\n",
        "env.reset()\n",
        "images = []\n",
        "done = False\n",
        "while not done:\n",
        "   # This rendering mode puts an image into a numpy array\n",
        "   images +=  [env.render()]\n",
        "   obs, reward, done, trunc, info = env.step(env.action_space.sample()) # take a random action\n",
        "   print(\"reward: %s\" % reward)\n",
        "env.close()"
      ]
    },
    {
      "cell_type": "code",
      "execution_count": 16,
      "metadata": {
        "id": "0SoWr9uoIJCd",
        "outputId": "eff478b8-7e4b-433e-8267-7a78e74d6c5c",
        "colab": {
          "base_uri": "https://localhost:8080/"
        }
      },
      "outputs": [
        {
          "output_type": "execute_result",
          "data": {
            "text/plain": [
              "84"
            ]
          },
          "metadata": {},
          "execution_count": 16
        }
      ],
      "source": [
        "len(images)"
      ]
    },
    {
      "cell_type": "code",
      "execution_count": 17,
      "metadata": {
        "id": "tNWS0tGLIJCe",
        "outputId": "2e54310c-a237-4e81-a199-71a9479ee4bd",
        "colab": {
          "base_uri": "https://localhost:8080/"
        }
      },
      "outputs": [
        {
          "output_type": "execute_result",
          "data": {
            "text/plain": [
              "(400, 600, 3)"
            ]
          },
          "metadata": {},
          "execution_count": 17
        }
      ],
      "source": [
        "images[0].shape"
      ]
    },
    {
      "cell_type": "code",
      "execution_count": 29,
      "metadata": {
        "id": "rx-9iDZhIJCg",
        "outputId": "09756eb5-9351-4cdc-9980-8115050eb5b5",
        "colab": {
          "base_uri": "https://localhost:8080/",
          "height": 321
        }
      },
      "outputs": [
        {
          "output_type": "stream",
          "name": "stderr",
          "text": [
            "WARNING:imageio_ffmpeg:IMAGEIO FFMPEG_WRITER WARNING: input image is not divisible by macro_block_size=16, resizing from (600, 400) to (608, 400) to ensure video compatibility with most codecs and players. To prevent resizing, make your input image divisible by the macro_block_size or set the macro_block_size to 1 (risking incompatibility).\n"
          ]
        },
        {
          "output_type": "execute_result",
          "data": {
            "text/plain": [
              "<IPython.core.display.HTML object>"
            ],
            "text/html": [
              "\n",
              "<video width=400 controls>\n",
              "      <source src=\"data:video/mp4;base64,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\" type=\"video/mp4\">\n",
              "</video>\n"
            ]
          },
          "metadata": {},
          "execution_count": 29
        }
      ],
      "source": [
        "# imageio is a nice library for taking a sequence of images and makeing a movie\n",
        "name = 'tmp.mp4'\n",
        "imageio.mimsave(name, images, fps=15)\n",
        "mp4 = open(name,'rb').read()\n",
        "data_url = \"data:video/mp4;base64,\" + b64encode(mp4).decode()\n",
        "HTML(\"\"\"\n",
        "<video width=400 controls>\n",
        "      <source src=\"%s\" type=\"video/mp4\">\n",
        "</video>\n",
        "\"\"\" % data_url)"
      ]
    },
    {
      "cell_type": "code",
      "execution_count": 19,
      "metadata": {
        "id": "_yoTv0b1IJCi",
        "outputId": "ee0a7e9b-48e5-418f-9022-219773f6699c",
        "colab": {
          "base_uri": "https://localhost:8080/"
        }
      },
      "outputs": [
        {
          "output_type": "stream",
          "name": "stdout",
          "text": [
            "[ 0.00546808  1.4221886   0.55384046  0.50080824 -0.00632933 -0.12545316\n",
            "  0.          0.        ]\n",
            "Reward: -6.16419261968274\n",
            "[ 0.01110649  1.4344361   0.56931484  0.5442987  -0.01174042 -0.10823049\n",
            "  0.          0.        ]\n",
            "Reward: -4.000323352689679\n",
            "[ 0.01677427  1.4472262   0.5721475   0.5683963  -0.01705114 -0.10622434\n",
            "  0.          0.        ]\n",
            "Reward: -3.7624728120467408\n",
            "[ 0.02259159  1.4602325   0.5864284   0.57799625 -0.0216884  -0.09275381\n",
            "  0.          0.        ]\n",
            "Reward: -3.0036627134857836\n",
            "[ 0.02840357  1.4735334   0.58597285  0.5910741  -0.02641362 -0.0945129\n",
            "  0.          0.        ]\n",
            "Reward: -5.724814096495822\n",
            "[ 0.03433638  1.4876995   0.5975944   0.62952095 -0.03068372 -0.08540999\n",
            "  0.          0.        ]\n",
            "Reward: -2.1795707735202425\n",
            "[ 0.0401063   1.5021591   0.5821842   0.64253515 -0.03581773 -0.10268966\n",
            "  0.          0.        ]\n",
            "Reward: -4.854808537260271\n",
            "[ 0.04605827  1.5170557   0.59962416  0.6619585  -0.04020175 -0.0876882\n",
            "  0.          0.        ]\n",
            "Reward: -5.069271660707773\n",
            "[ 0.05216427  1.5325074   0.61444736  0.6866304  -0.04400046 -0.07598129\n",
            "  0.          0.        ]\n",
            "Reward: -4.398335004390748\n",
            "[ 0.05825014  1.54861     0.6126907   0.7155503  -0.04806915 -0.08138137\n",
            "  0.          0.        ]\n",
            "Reward: -4.182937606311003\n",
            "[ 0.06454134  1.5648973   0.6323662   0.7237755  -0.05128327 -0.06428842\n",
            "  0.          0.        ]\n",
            "Reward: -2.870259924069262\n",
            "[ 0.07074356  1.5814968   0.62404543  0.7376149  -0.0550657  -0.07565527\n",
            "  0.          0.        ]\n",
            "Reward: -4.121087450309676\n",
            "[ 0.07702284  1.5984654   0.6315401   0.7540279  -0.05865185 -0.07172947\n",
            "  0.          0.        ]\n",
            "Reward: -4.877836113488274\n",
            "[ 0.08321486  1.6162614   0.6235045   0.7907563  -0.06291128 -0.08519632\n",
            "  0.          0.        ]\n",
            "Reward: -5.060438558876672\n",
            "[ 0.08960094  1.6344575   0.64217836  0.8085627  -0.06645493 -0.07087944\n",
            "  0.          0.        ]\n",
            "Reward: -3.5125182525697367\n",
            "[ 0.09616575  1.652653    0.65934193  0.80855954 -0.06928447 -0.05659574\n",
            "  0.          0.        ]\n",
            "Reward: -4.067378356204915\n",
            "[ 0.10272789  1.6713003   0.6592996   0.82862145 -0.07235498 -0.06141565\n",
            "  0.          0.        ]\n",
            "Reward: -6.086154200494707\n",
            "[ 0.10945692  1.690677    0.67552316  0.86106074 -0.07494311 -0.05176705\n",
            "  0.          0.        ]\n",
            "Reward: -3.8727492735262556\n",
            "[ 0.11631765  1.7102178   0.68825173  0.8683728  -0.0770951  -0.04304372\n",
            "  0.          0.        ]\n",
            "Reward: -5.553101930717548\n",
            "[ 0.12311945  1.7306713   0.6829913   0.9088929  -0.07988434 -0.05578966\n",
            "  0.          0.        ]\n",
            "Reward: -6.416950859619862\n",
            "[ 0.12997302  1.7520552   0.6883044   0.95022935 -0.08281108 -0.05854046\n",
            "  0.          0.        ]\n",
            "Reward: -4.377358072336267\n",
            "[ 0.13693066  1.7737172   0.69845337  0.9626085  -0.08547978 -0.0533786\n",
            "  0.          0.        ]\n",
            "Reward: -2.7645543854989567\n",
            "[ 0.14391164  1.795336    0.7008342   0.9606765  -0.08818718 -0.05415287\n",
            "  0.          0.        ]\n",
            "Reward: -5.807124013486532\n",
            "[ 0.15105191  1.8175371   0.71633095  0.9865887  -0.09047996 -0.04585957\n",
            "  0.          0.        ]\n",
            "Reward: -3.611119585895426\n",
            "[ 0.15821353  1.8399183   0.7185982   0.99457145 -0.09289116 -0.04822841\n",
            "  0.          0.        ]\n",
            "Reward: -5.555465085599496\n",
            "[ 0.16527805  1.8631289   0.7101269   1.0313566  -0.09653064 -0.07279027\n",
            "  0.          0.        ]\n",
            "Reward: -5.329954283878851\n",
            "[ 0.1722639   1.8870468   0.7026391   1.0627483  -0.10054769 -0.08034121\n",
            "  0.          0.        ]\n",
            "Reward: -3.4197208449240177\n",
            "[ 0.17915602  1.9111446   0.69394106  1.0706859  -0.1052374  -0.09379424\n",
            "  0.          0.        ]\n",
            "Reward: -4.681654885220655\n",
            "[ 0.18624239  1.9353685   0.71269166  1.0763321  -0.10927    -0.0806518\n",
            "  0.          0.        ]\n",
            "Reward: -6.707565725216216\n",
            "[ 0.19330959  1.9605175   0.7113937   1.1173867  -0.1139029  -0.09265845\n",
            "  0.          0.        ]\n",
            "Reward: -5.060871274997669\n",
            "[ 0.20039101  1.9860834   0.71309406  1.1358817  -0.11882768 -0.09849528\n",
            "  0.          0.        ]\n",
            "Reward: -5.188055543221014\n",
            "[ 0.20757589  2.0119731   0.7233056   1.1502608  -0.12361497 -0.09574569\n",
            "  0.          0.        ]\n",
            "Reward: -4.213200901103266\n",
            "[ 0.21490946  2.0378768   0.7377108   1.1509087  -0.12795419 -0.08678426\n",
            "  0.          0.        ]\n",
            "Reward: -4.255160701139903\n",
            "[ 0.2221487   2.064107    0.729088    1.1653254  -0.1330898  -0.10271215\n",
            "  0.          0.        ]\n",
            "Reward: -4.9891962328624\n",
            "[ 0.22941665  2.0906732   0.73220074  1.180244   -0.13847752 -0.10775449\n",
            "  0.          0.        ]\n",
            "Reward: -4.7471538329495955\n",
            "[ 0.23680553  2.1173904   0.7440546   1.1869346  -0.1436311  -0.10307124\n",
            "  0.          0.        ]\n",
            "Reward: -6.756877937607771\n",
            "[ 0.24422236  2.144878    0.7473317   1.2211251  -0.14926153 -0.11260878\n",
            "  0.          0.        ]\n",
            "Reward: -7.606049416011319\n",
            "[ 0.25176516  2.1732028   0.76000303  1.258298   -0.1549754  -0.11427723\n",
            "  0.          0.        ]\n",
            "Reward: -6.966190700993184\n",
            "[ 0.2596012   2.201986    0.7884892   1.2787356  -0.1598536  -0.09756451\n",
            "  0.          0.        ]\n",
            "Reward: -6.981350851391471\n",
            "[ 0.26769     2.2312844   0.8131479   1.3016732  -0.16412596 -0.08544717\n",
            "  0.          0.        ]\n",
            "Reward: -7.0280413365151615\n",
            "[ 0.2757743   2.2614102   0.8134411   1.3383629  -0.16913784 -0.10023775\n",
            "  0.          0.        ]\n",
            "Reward: -0.5622304665860429\n",
            "[ 0.2837715   2.2909482   0.8025192   1.3124905  -0.17194332 -0.05610987\n",
            "  0.          0.        ]\n",
            "Reward: -7.44014758511064\n",
            "[ 0.2919278   2.3212569   0.818435    1.3467214  -0.17474675 -0.0560687\n",
            "  0.          0.        ]\n",
            "Reward: -6.443324675125996\n",
            "[ 0.30017215  2.352146    0.8274525   1.3724927  -0.17778318 -0.06072848\n",
            "  0.          0.        ]\n",
            "Reward: -5.66761913509639\n",
            "[ 0.30841312  2.3835022   0.8277235   1.393182   -0.18141624 -0.07266162\n",
            "  0.          0.        ]\n",
            "Reward: -5.064901821992623\n",
            "[ 0.3166545   2.415143    0.8282441   1.4057542  -0.18553983 -0.08247129\n",
            "  0.          0.        ]\n",
            "Reward: -0.8614875712858339\n",
            "[ 0.32483664  2.446195    0.8208183   1.3797543  -0.18815544 -0.05231206\n",
            "  0.          0.        ]\n",
            "Reward: -5.0615503109198015\n",
            "[ 0.33300447  2.477579    0.81997555  1.3944354  -0.19137414 -0.06437398\n",
            "  0.          0.        ]\n",
            "Reward: -5.052148190723574\n",
            "[ 0.341232    2.5091863   0.8261722   1.4043263  -0.19480392 -0.06859601\n",
            "  0.          0.        ]\n",
            "Reward: -5.282076996050352\n",
            "[ 0.34955063  2.5410285   0.8353488   1.4147382  -0.1983195  -0.07031183\n",
            "  0.          0.        ]\n",
            "Reward: -8.281483349659073\n",
            "[ 0.35810623  2.5736816   0.8588417   1.4508007  -0.20161763 -0.06596275\n",
            "  0.          0.        ]\n",
            "Reward: -5.631751333041325\n",
            "[ 0.36680526  2.606573    0.8730394   1.4614047  -0.20478442 -0.0633358\n",
            "  0.          0.        ]\n",
            "Reward: -8.718017150901165\n",
            "[ 0.37570104  2.6404097   0.89280176  1.5033923  -0.20802899 -0.06489108\n",
            "  0.          0.        ]\n",
            "Reward: -8.491762129877134\n",
            "[ 0.38473606  2.675172    0.90704596  1.5444988  -0.2116164  -0.07174844\n",
            "  0.          0.        ]\n",
            "Reward: -1.1411889123514516\n",
            "[ 0.39370805  2.709357    0.8991107   1.5190634  -0.21355242 -0.0387199\n",
            "  0.          0.        ]\n",
            "Reward: -3.947620646662233\n",
            "[ 0.4025995   2.743604    0.891854    1.5216807  -0.21628402 -0.05463218\n",
            "  0.          0.        ]\n",
            "Reward: -8.248332738665273\n",
            "[ 0.4116396   2.7787058   0.90699625  1.5596383  -0.21930775 -0.06047487\n",
            "  0.          0.        ]\n",
            "Reward: -6.504696408331415\n",
            "[ 0.42067918  2.8143632   0.90772057  1.5842141  -0.22310854 -0.07601589\n",
            "  0.          0.        ]\n",
            "Reward: -7.324394721035492\n",
            "[ 0.42979097  2.8506663   0.91545093  1.6128049  -0.22743356 -0.08650032\n",
            "  0.          0.        ]\n",
            "Reward: -5.427954726603775\n",
            "[ 0.439058    2.8870273   0.93073785  1.6154183  -0.23151681 -0.08166505\n",
            "  0.          0.        ]\n",
            "Reward: -6.051155174667701\n",
            "[ 0.4485402   2.9235368   0.9518062   1.6220735  -0.23516206 -0.07290526\n",
            "  0.          0.        ]\n",
            "Reward: -6.807628006739651\n",
            "[ 0.45821103  2.9604154   0.9705221   1.638507   -0.23865551 -0.06986888\n",
            "  0.          0.        ]\n",
            "Reward: -8.091563692642627\n",
            "[ 0.46805134  2.9979975   0.9876496   1.6697215  -0.24233769 -0.07364374\n",
            "  0.          0.        ]\n",
            "Reward: -5.761627616045803\n",
            "[ 0.47816068  3.0355659   1.0137967   1.6692365  -0.24524613 -0.0581689\n",
            "  0.          0.        ]\n",
            "Reward: -7.377206384182204\n",
            "[ 0.48837012  3.0737336   1.0242469   1.6957835  -0.24860322 -0.06714188\n",
            "  0.          0.        ]\n",
            "Reward: -6.424302275654713\n",
            "[ 0.49863872  3.112282    1.0306156   1.7126364  -0.25244027 -0.07674113\n",
            "  0.          0.        ]\n",
            "Reward: -7.996503202084273\n",
            "[ 0.50920045  3.1513143   1.0594723   1.7341902  -0.25579876 -0.06716968\n",
            "  0.          0.        ]\n",
            "Reward: -7.91678893269584\n",
            "[ 0.52003586  3.1908286   1.0864551   1.7556909  -0.2587782  -0.05958911\n",
            "  0.          0.        ]\n",
            "Reward: -5.595678465764013\n",
            "[ 0.5308391   3.230596    1.084028    1.7667832  -0.26257464 -0.07592861\n",
            "  0.          0.        ]\n",
            "Reward: -8.974411953436903\n",
            "[ 0.54183567  3.2711728   1.1036437   1.8026834  -0.2666343  -0.0811929\n",
            "  0.          0.        ]\n",
            "Reward: -5.481782547976922\n",
            "[ 0.55285436  3.311856    1.1062914   1.8073261  -0.27117044 -0.09072275\n",
            "  0.          0.        ]\n",
            "Reward: -7.562653044935064\n",
            "[ 0.5640117   3.3530154   1.120425    1.8284341  -0.27597746 -0.09614059\n",
            "  0.          0.        ]\n",
            "Reward: -7.7883141838445225\n",
            "[ 0.5754388   3.3945346   1.1470121   1.8444886  -0.2803911  -0.08827222\n",
            "  0.          0.        ]\n",
            "Reward: -9.463070881272689\n",
            "[ 0.5870245   3.4369624   1.163429    1.8847419  -0.28538737 -0.09992564\n",
            "  0.          0.        ]\n",
            "Reward: -7.239617741065149\n",
            "[ 0.5988616   3.4795938   1.188173    1.893842   -0.28996497 -0.09155199\n",
            "  0.          0.        ]\n",
            "Reward: -6.427651177541452\n",
            "[ 0.6108736   3.5223172   1.2054789   1.8979573  -0.29437885 -0.08827703\n",
            "  0.          0.        ]\n",
            "Reward: -6.2390295226486385\n",
            "[ 0.62302685  3.5651245   1.2195864   1.9016849  -0.2987797  -0.08801805\n",
            "  0.          0.        ]\n",
            "Reward: -5.467624571320061\n",
            "[ 0.6352337   3.6079242   1.225245    1.9012688  -0.30348065 -0.09401919\n",
            "  0.          0.        ]\n",
            "Reward: -8.818840048587209\n",
            "[ 0.6476917   3.6513135   1.2503275   1.927449   -0.30817014 -0.09378957\n",
            "  0.          0.        ]\n",
            "Reward: -5.6040184635334525\n",
            "[ 0.660157    3.694762    1.2516177   1.9299562  -0.3134439  -0.10547513\n",
            "  0.          0.        ]\n",
            "Reward: -6.124762847881061\n",
            "[ 0.67283726  3.7381275   1.2726566   1.9263489  -0.31826448 -0.09641142\n",
            "  0.          0.        ]\n",
            "Reward: -7.8068875954424355\n",
            "[ 0.6857914   3.781772    1.2997115   1.9387963  -0.3227295  -0.08930073\n",
            "  0.          0.        ]\n",
            "Reward: -8.907863459866395\n",
            "[ 0.6990986   3.8258722   1.3345128   1.95916    -0.32667935 -0.07899649\n",
            "  0.          0.        ]\n",
            "Reward: -7.831262192964277\n",
            "[ 0.7127638   3.8701408   1.3695327   1.9668076  -0.32982194 -0.06285243\n",
            "  0.          0.        ]\n",
            "Reward: -8.813426870746571\n",
            "[ 0.7268343  3.9147758  1.4093053  1.9832727 -0.3321562 -0.0466859\n",
            "  0.         0.       ]\n",
            "Reward: -6.1218398482022165\n",
            "[ 0.74118197  3.9592564   1.4362615   1.9765725  -0.33372846 -0.03144548\n",
            "  0.          0.        ]\n",
            "Reward: -9.136441795143401\n",
            "[ 0.7557093   4.004522    1.4548209   2.0113     -0.33591366 -0.04370386\n",
            "  0.          0.        ]\n",
            "Reward: -9.592860461187048\n",
            "[ 0.7704662   4.050584    1.4781951   2.0466256  -0.3385157  -0.05204056\n",
            "  0.          0.        ]\n",
            "Reward: -8.878082811042123\n",
            "[ 0.7854334   4.0972514   1.4994912   2.0734482  -0.3414362  -0.05840928\n",
            "  0.          0.        ]\n",
            "Reward: -7.22373412822144\n",
            "[ 0.8005854   4.1441016   1.517988    2.081575   -0.34435922 -0.05846033\n",
            "  0.          0.        ]\n",
            "Reward: -8.82971594403016\n",
            "[ 0.8161081   4.191288    1.554445    2.0966403  -0.3466432  -0.04568006\n",
            "  0.          0.        ]\n",
            "Reward: -8.04504470542172\n",
            "[ 0.8319645   4.238658    1.5872239   2.1049266  -0.3482963  -0.03306162\n",
            "  0.          0.        ]\n",
            "Reward: -9.945704194814812\n",
            "[ 0.8480669   4.2868443   1.6122147   2.141176   -0.35037288 -0.04153151\n",
            "  0.          0.        ]\n",
            "Reward: -7.949234747131004\n",
            "[ 0.864427    4.335271    1.6377697   2.151882   -0.35221887 -0.03692041\n",
            "  0.          0.        ]\n",
            "Reward: -9.938779702917646\n",
            "[ 0.88105774  4.384443    1.6650728   2.1848958  -0.3543202  -0.04202718\n",
            "  0.          0.        ]\n",
            "Reward: -10.029438567901298\n",
            "[ 0.8978798   4.434469    1.6848917   2.2227144  -0.35714826 -0.05656124\n",
            "  0.          0.        ]\n",
            "Reward: -6.358523868547127\n",
            "[ 0.91485536  4.4843917   1.7001089   2.2181356  -0.35984686 -0.05397171\n",
            "  0.          0.        ]\n",
            "Reward: -8.827883465083278\n",
            "[ 0.93220806  4.534539    1.7371296   2.2283297  -0.36180967 -0.03925544\n",
            "  0.          0.        ]\n",
            "Reward: -9.951947301982432\n",
            "[ 0.9499119   4.5852594   1.7719948   2.2537947  -0.3635339  -0.03448416\n",
            "  0.          0.        ]\n",
            "Reward: -7.72945834299951\n",
            "[ 0.9677547   4.6362615   1.7862679   2.266278   -0.36562425 -0.04180613\n",
            "  0.          0.        ]\n",
            "Reward: -7.151246031160826\n",
            "[ 0.9858488   4.687205    1.8109154   2.2637398  -0.36722592 -0.03203431\n",
            "  0.          0.        ]\n",
            "Reward: -100\n"
          ]
        }
      ],
      "source": [
        "# Make a movie of a trained agent\n",
        "obs = env.reset()[0]\n",
        "images = []\n",
        "done = False\n",
        "while not done:\n",
        "   # This rendering mode puts an image into a numpy array\n",
        "   images += [env.render()]\n",
        "   print(obs)\n",
        "   action, _states = model.predict(obs, deterministic=True)\n",
        "   obs, reward, done, trunc, info = env.step(action)\n",
        "   print(\"Reward:\", reward)\n",
        "   if done:\n",
        "      obs = env.reset()\n",
        "env.close()"
      ]
    },
    {
      "cell_type": "code",
      "execution_count": 20,
      "metadata": {
        "id": "Vms3_i0rIJCj",
        "outputId": "648db8db-a251-4769-bcad-7d236982d8e2",
        "colab": {
          "base_uri": "https://localhost:8080/",
          "height": 208
        }
      },
      "outputs": [
        {
          "output_type": "stream",
          "name": "stderr",
          "text": [
            "WARNING:imageio_ffmpeg:IMAGEIO FFMPEG_WRITER WARNING: input image is not divisible by macro_block_size=16, resizing from (600, 400) to (608, 400) to ensure video compatibility with most codecs and players. To prevent resizing, make your input image divisible by the macro_block_size or set the macro_block_size to 1 (risking incompatibility).\n"
          ]
        },
        {
          "output_type": "execute_result",
          "data": {
            "text/plain": [
              "<IPython.core.display.Video object>"
            ],
            "text/html": [
              "<video src=\"tmp2.mp4\" controls  >\n",
              "      Your browser does not support the <code>video</code> element.\n",
              "    </video>"
            ]
          },
          "metadata": {},
          "execution_count": 20
        }
      ],
      "source": [
        "imageio.mimsave('tmp2.mp4', images, fps=15)\n",
        "display.Video('tmp2.mp4')"
      ]
    },
    {
      "cell_type": "code",
      "execution_count": 21,
      "metadata": {
        "id": "C69H30PmIJCm",
        "outputId": "48ed4b4e-9cd4-4438-c24e-9ffcdc8cac59",
        "colab": {
          "base_uri": "https://localhost:8080/",
          "height": 374
        }
      },
      "outputs": [
        {
          "output_type": "error",
          "ename": "ModuleNotFoundError",
          "evalue": "ignored",
          "traceback": [
            "\u001b[0;31m---------------------------------------------------------------------------\u001b[0m",
            "\u001b[0;31mModuleNotFoundError\u001b[0m                       Traceback (most recent call last)",
            "\u001b[0;32m<ipython-input-21-61d61af9e619>\u001b[0m in \u001b[0;36m<cell line: 1>\u001b[0;34m()\u001b[0m\n\u001b[0;32m----> 1\u001b[0;31m \u001b[0;32mfrom\u001b[0m \u001b[0mhuggingface_sb3\u001b[0m \u001b[0;32mimport\u001b[0m \u001b[0mload_from_hub\u001b[0m\u001b[0;34m\u001b[0m\u001b[0;34m\u001b[0m\u001b[0m\n\u001b[0m\u001b[1;32m      2\u001b[0m \u001b[0;31m# checkpoint = load_from_hub(\u001b[0m\u001b[0;34m\u001b[0m\u001b[0;34m\u001b[0m\u001b[0m\n\u001b[1;32m      3\u001b[0m \u001b[0;31m#     repo_id=\"sb3/demo-hf-CartPole-v1\",\u001b[0m\u001b[0;34m\u001b[0m\u001b[0;34m\u001b[0m\u001b[0m\n\u001b[1;32m      4\u001b[0m \u001b[0;31m#     filename=\"ppo-CartPole-v1.zip\",\u001b[0m\u001b[0;34m\u001b[0m\u001b[0;34m\u001b[0m\u001b[0m\n\u001b[1;32m      5\u001b[0m \u001b[0;31m# )\u001b[0m\u001b[0;34m\u001b[0m\u001b[0;34m\u001b[0m\u001b[0m\n",
            "\u001b[0;31mModuleNotFoundError\u001b[0m: No module named 'huggingface_sb3'",
            "",
            "\u001b[0;31m---------------------------------------------------------------------------\u001b[0;32m\nNOTE: If your import is failing due to a missing package, you can\nmanually install dependencies using either !pip or !apt.\n\nTo view examples of installing some common dependencies, click the\n\"Open Examples\" button below.\n\u001b[0;31m---------------------------------------------------------------------------\u001b[0m\n"
          ],
          "errorDetails": {
            "actions": [
              {
                "action": "open_url",
                "actionText": "Open Examples",
                "url": "/notebooks/snippets/importing_libraries.ipynb"
              }
            ]
          }
        }
      ],
      "source": [
        "from huggingface_sb3 import load_from_hub\n",
        "# checkpoint = load_from_hub(\n",
        "#     repo_id=\"sb3/demo-hf-CartPole-v1\",\n",
        "#     filename=\"ppo-CartPole-v1.zip\",\n",
        "# )\n",
        "checkpoint = load_from_hub(\n",
        "    repo_id=\"MalarzDawid/ppo-LunarLandar-v2\",\n",
        "    filename=\"ppo-LunarLander-v2.zip\",\n",
        ")\n",
        "\n",
        "model = PPO.load(checkpoint)"
      ]
    },
    {
      "cell_type": "code",
      "execution_count": null,
      "metadata": {
        "id": "pdum_xknIJCo"
      },
      "outputs": [],
      "source": [
        "# Make a movie of a trained agent\n",
        "obs = env.reset()[0]\n",
        "images = []\n",
        "done = False\n",
        "while not done:\n",
        "   # This rendering mode puts an image into a numpy array\n",
        "   images += [env.render()]\n",
        "   print(obs)\n",
        "   action, _states = model.predict(obs, deterministic=True)\n",
        "   obs, reward, done, trunc, info = env.step(action)\n",
        "   print(\"Reward:\", reward)\n",
        "   if done:\n",
        "      obs = env.reset()\n",
        "env.close()"
      ]
    },
    {
      "cell_type": "code",
      "execution_count": null,
      "metadata": {
        "id": "wAja0T9mIJCq"
      },
      "outputs": [],
      "source": [
        "imageio.mimsave('tmp3.mp4', images, fps=15)\n",
        "display.Video('tmp3.mp4')"
      ]
    },
    {
      "cell_type": "markdown",
      "metadata": {
        "id": "cMvELLNgIJCr"
      },
      "source": [
        "# Recording trajectory"
      ]
    },
    {
      "cell_type": "code",
      "execution_count": null,
      "metadata": {
        "id": "iivGmP1rIJCt"
      },
      "outputs": [],
      "source": [
        "for i in range(10):\n",
        "    # Make a movie of a trained agent\n",
        "    obs = env.reset()[0]\n",
        "    done = False\n",
        "    x = []\n",
        "    y = []\n",
        "    while not done:\n",
        "    # This rendering mode puts an image into a numpy array\n",
        "        x.append(obs[0])\n",
        "        y.append(obs[1])\n",
        "        action, _states = model.predict(obs, deterministic=True)\n",
        "        obs, reward, done, trunc, info = env.step(action)\n",
        "        if done:\n",
        "            obs = env.reset()\n",
        "    env.close()\n",
        "    py.clf()\n",
        "    py.plot(x,y)\n",
        "    py.savefig('movie'+str(i)+'.png')"
      ]
    },
    {
      "cell_type": "code",
      "execution_count": null,
      "metadata": {
        "id": "92Z-VHRNIJCu"
      },
      "outputs": [],
      "source": [
        "py.plot(x,y)"
      ]
    },
    {
      "cell_type": "code",
      "execution_count": null,
      "metadata": {
        "id": "45TmDhD0IJCv"
      },
      "outputs": [],
      "source": []
    }
  ],
  "metadata": {
    "interpreter": {
      "hash": "91c69d281b806a3add6b161e23d9089dcb392788fdbe6cdd17c006940cab5b65"
    },
    "jupytext": {
      "cell_metadata_filter": "-all",
      "formats": "ipynb,py:percent",
      "main_language": "python"
    },
    "kernelspec": {
      "display_name": "Python 3 (ipykernel)",
      "language": "python",
      "name": "python3"
    },
    "language_info": {
      "codemirror_mode": {
        "name": "ipython",
        "version": 3
      },
      "file_extension": ".py",
      "mimetype": "text/x-python",
      "name": "python",
      "nbconvert_exporter": "python",
      "pygments_lexer": "ipython3",
      "version": "3.9.16"
    },
    "toc-autonumbering": false,
    "toc-showcode": false,
    "toc-showmarkdowntxt": false,
    "toc-showtags": false,
    "colab": {
      "provenance": []
    }
  },
  "nbformat": 4,
  "nbformat_minor": 0
}